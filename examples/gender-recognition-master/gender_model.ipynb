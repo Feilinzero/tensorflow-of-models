{
 "cells": [
  {
   "cell_type": "markdown",
   "metadata": {},
   "source": [
    "## 图像数据处理"
   ]
  },
  {
   "cell_type": "code",
   "execution_count": 321,
   "metadata": {},
   "outputs": [],
   "source": [
    "import os\n",
    "import numpy as np\n",
    "import cv2"
   ]
  },
  {
   "cell_type": "code",
   "execution_count": 322,
   "metadata": {},
   "outputs": [],
   "source": [
    "def get_img_list(dirname,flag=0):  # 读取文件列表\n",
    "    rootdir = os.path.abspath('./data/' + dirname + '/')\n",
    "    list = os.listdir(rootdir)  # 列出文件夹下所有的目录与文件\n",
    "    files = []\n",
    "    for i in range(0, len(list)):\n",
    "        path = os.path.join(rootdir, list[i])\n",
    "        if os.path.isfile(path):\n",
    "            files.append(path)\n",
    "    return files"
   ]
  },
  {
   "cell_type": "code",
   "execution_count": 323,
   "metadata": {},
   "outputs": [],
   "source": [
    "def read_img(list, flag=0):  # 读取图片为数据\n",
    "    for i in range(len(list) - 1):\n",
    "        if os.path.isfile(list[i]):\n",
    "            images.append(cv2.imread(list[i]).flatten())\n",
    "            labels.append(flag)"
   ]
  },
  {
   "cell_type": "code",
   "execution_count": 324,
   "metadata": {},
   "outputs": [],
   "source": [
    "images = []\n",
    "labels = []\n",
    "\n",
    "# 读取图像数据并做标记\n",
    "read_img(get_img_list('male'), [0, 1])\n",
    "read_img(get_img_list('female'), [1, 0])\n",
    "\n",
    "# 转换数组\n",
    "images = np.array(images)\n",
    "labels = np.array(labels)"
   ]
  },
  {
   "cell_type": "code",
   "execution_count": 325,
   "metadata": {},
   "outputs": [
    {
     "data": {
      "text/plain": [
       "(397, 397, (397, 30912), (397, 2))"
      ]
     },
     "execution_count": 325,
     "metadata": {},
     "output_type": "execute_result"
    }
   ],
   "source": [
    "len(images),len(labels),images.shape,labels.shape"
   ]
  },
  {
   "cell_type": "code",
   "execution_count": 326,
   "metadata": {},
   "outputs": [
    {
     "data": {
      "text/plain": [
       "(array([ 84,  84,  84, ..., 228, 228, 228], dtype=uint8), array([0, 1]))"
      ]
     },
     "execution_count": 326,
     "metadata": {},
     "output_type": "execute_result"
    }
   ],
   "source": [
    "images[0],labels[0]"
   ]
  },
  {
   "cell_type": "code",
   "execution_count": 327,
   "metadata": {},
   "outputs": [],
   "source": [
    "# np.random.permutation(index)对指定范围的序列进行随机排序\n",
    "per = np.random.permutation(labels.shape[0])\n",
    "# 重新排序\n",
    "all_images = images[per,:]\n",
    "all_labels = labels[per,:]"
   ]
  },
  {
   "cell_type": "code",
   "execution_count": 328,
   "metadata": {},
   "outputs": [],
   "source": [
    "# 拆分测试集与训练集，2:8\n",
    "images_total = all_images.shape[0]\n",
    "# 切片索引需整数\n",
    "train_num = int(images_total*0.8)\n",
    "test_num = images_total-train_num\n",
    "\n",
    "images_train = all_images[0:train_num,:].astype(\"float32\") / 255\n",
    "labels_train = all_labels[0:train_num,:].astype(\"float32\")\n",
    "images_test = all_images[train_num:images_total,:].astype(\"float32\") / 255\n",
    "labels_test = all_labels[train_num:images_total,:].astype(\"float32\")"
   ]
  },
  {
   "cell_type": "code",
   "execution_count": 329,
   "metadata": {},
   "outputs": [
    {
     "data": {
      "text/plain": [
       "((317, 30912), (317, 2))"
      ]
     },
     "execution_count": 329,
     "metadata": {},
     "output_type": "execute_result"
    }
   ],
   "source": [
    "images_train.shape,labels_train.shape"
   ]
  },
  {
   "cell_type": "markdown",
   "metadata": {},
   "source": [
    "## 构建定义模型"
   ]
  },
  {
   "cell_type": "code",
   "execution_count": 330,
   "metadata": {},
   "outputs": [],
   "source": [
    "np.set_printoptions(suppress=True)  # 设置小数不以科学计数法输出"
   ]
  },
  {
   "cell_type": "code",
   "execution_count": 331,
   "metadata": {
    "scrolled": true
   },
   "outputs": [
    {
     "data": {
      "image/png": "[encoded data removed]",
      "text/plain": [
       "<Figure size 144x144 with 1 Axes>"
      ]
     },
     "metadata": {
      "needs_background": "light"
     },
     "output_type": "display_data"
    },
    {
     "data": {
      "text/plain": [
       "(array([[1., 0.]], dtype=float32),\n",
       " array([[0.9607843 , 0.9607843 , 0.9607843 , ..., 1.        , 1.        ,\n",
       "         1.        ],\n",
       "        [0.23529412, 0.23529412, 0.23529412, ..., 0.93333334, 0.93333334,\n",
       "         0.93333334],\n",
       "        [0.5137255 , 0.5137255 , 0.5137255 , ..., 0.13333334, 0.13333334,\n",
       "         0.13333334],\n",
       "        ...,\n",
       "        [0.10196079, 0.10196079, 0.10196079, ..., 0.07450981, 0.07450981,\n",
       "         0.07450981],\n",
       "        [0.9843137 , 0.9843137 , 0.9843137 , ..., 0.7411765 , 0.7411765 ,\n",
       "         0.7411765 ],\n",
       "        [0.21568628, 0.21568628, 0.21568628, ..., 0.22352941, 0.22352941,\n",
       "         0.22352941]], dtype=float32),\n",
       " (1, 30912))"
      ]
     },
     "execution_count": 331,
     "metadata": {},
     "output_type": "execute_result"
    }
   ],
   "source": [
    "import matplotlib.pyplot as plt\n",
    "# 绘制一张图像\n",
    "input_images = images_train[0:1] \n",
    "input_labels = labels_train[0:1]\n",
    "fig,ax = plt.subplots(figsize=(2,2))\n",
    "ax.imshow(np.reshape(input_images,(112,92,3)))\n",
    "plt.show()\n",
    "input_labels,images_train,input_images.shape"
   ]
  },
  {
   "cell_type": "code",
   "execution_count": 332,
   "metadata": {},
   "outputs": [],
   "source": [
    "import tensorflow as tf\n",
    "import random\n",
    "from sklearn.metrics import confusion_matrix, classification_report"
   ]
  },
  {
   "cell_type": "code",
   "execution_count": 333,
   "metadata": {},
   "outputs": [
    {
     "data": {
      "text/plain": [
       "<tf.Tensor 'images_input_16:0' shape=(?, 30912) dtype=float32>"
      ]
     },
     "execution_count": 333,
     "metadata": {},
     "output_type": "execute_result"
    }
   ],
   "source": [
    "\n",
    "# 训练参数\n",
    "train_epochs = 200\n",
    "drop_out = 0.7\n",
    "learning_rate = 0.0000056\n",
    "\n",
    "def weight_init(shape):\n",
    "    # 截断的产生正态分布的随机数，即随机数与均值的差值若大于两倍的标准差，则重新生成。\n",
    "    weight = tf.truncated_normal(shape,stddev=0.1,dtype=tf.float32)\n",
    "    return tf.Variable(weight)\n",
    "def bias_init(shape):\n",
    "    bias = tf.random_normal(shape,dtype=tf.float32)\n",
    "    return tf.Variable(bias)\n",
    "\n",
    "\"\"\"\n",
    "输入占位\n",
    "    input_images: [None,112*92*3]\n",
    "    input_labels: [None,2]\n",
    "\"\"\"\n",
    "images_input = tf.placeholder(tf.float32,[None,images_train.shape[1]],\n",
    "                              name = \"images_input\")\n",
    "labels_input = tf.placeholder(tf.float32,[None,labels_train.shape[1]],\n",
    "                             name = \"labels_input\")\n",
    "images_input"
   ]
  },
  {
   "cell_type": "code",
   "execution_count": 334,
   "metadata": {},
   "outputs": [],
   "source": [
    "\"\"\"\n",
    "input/out: [None,nH,nW,channels]\n",
    "padding:\n",
    "    VALID:不填充数据\n",
    "    SAME:填充数据\n",
    "\"\"\"\n",
    "def conv2d(images,filter_input,lname):\n",
    "    return tf.nn.conv2d(images,filter_input,strides=[1,1,1,1],\n",
    "                        padding=\"SAME\",name=lname)\n",
    "\n",
    "def maxpooling2d(images,lname):\n",
    "    return tf.nn.max_pool(images,ksize=[1,2,2,1],\n",
    "                             strides=[1,2,2,1],padding=\"SAME\")"
   ]
  },
  {
   "cell_type": "code",
   "execution_count": 335,
   "metadata": {},
   "outputs": [],
   "source": [
    "x_input = tf.reshape(images_input,[-1,112,92,3])\n",
    "# x_input,images_input"
   ]
  },
  {
   "cell_type": "code",
   "execution_count": 336,
   "metadata": {},
   "outputs": [
    {
     "data": {
      "text/plain": [
       "<tf.Tensor 'MaxPool_53:0' shape=(?, 14, 12, 64) dtype=float32>"
      ]
     },
     "execution_count": 336,
     "metadata": {},
     "output_type": "execute_result"
    }
   ],
   "source": [
    "# 前向传播\n",
    "\n",
    "# 第一层卷积  16个[3,3,3]卷积核\n",
    "w1 = weight_init([3,3,3,16])\n",
    "b1 = bias_init([16])\n",
    "conv_1 = conv2d(x_input,w1,\"conv_1\")+b1\n",
    "relu_1 = tf.nn.relu(conv_1)\n",
    "max_pool_1 = maxpooling2d(relu_1,\"max_pool_1\")\n",
    "\n",
    "# 第二层卷积 32个[3,3,3]卷积核\n",
    "w2 = weight_init([3,3,16,32])\n",
    "b2 = bias_init([32])\n",
    "conv_2 = conv2d(max_pool_1,w2,\"conv_2\")+b2\n",
    "relu_2 = tf.nn.relu(conv_2)\n",
    "max_pool_2 = maxpooling2d(relu_2,\"max_pool_2\")\n",
    "\n",
    "# 第三层卷积 64个[3,3,3]卷积核\n",
    "w3 = weight_init([3,3,32,64])\n",
    "b3 = bias_init([64])\n",
    "conv_3 = conv2d(max_pool_2,w3,\"conv_3\")+b3\n",
    "relu_3 = tf.nn.relu(conv_3)\n",
    "max_pool_3 = maxpooling2d(relu_3,\"max_pool_3\")\n",
    "\n",
    "# 展开\n",
    "\n",
    "flatten = tf.reshape(max_pool_3,[-1,14*12*64])\n",
    "max_pool_3"
   ]
  },
  {
   "cell_type": "code",
   "execution_count": 337,
   "metadata": {},
   "outputs": [],
   "source": [
    "# 第一层全连接\n",
    "w4 = weight_init([14*12*64,512])\n",
    "b4 = bias_init([512])\n",
    "f1 = tf.matmul(flatten,w4)+b4\n",
    "relu_f1 = tf.nn.relu(f1)\n",
    "dropout_f1 = tf.nn.dropout(relu_f1,drop_out)\n",
    "\n",
    "# 第二层全连接\n",
    "w5 = weight_init([512,256])\n",
    "b5 = bias_init([256])\n",
    "f2 = tf.matmul(dropout_f1,w5)+b5\n",
    "relu_f2 = tf.nn.relu(f2)\n",
    "dropout_f2 = tf.nn.dropout(relu_f2,0.7)\n",
    "\n",
    "# 第三层\n",
    "w6 = weight_init([256,128])\n",
    "b6 = bias_init([128])\n",
    "f3 = tf.matmul(dropout_f2,w6)+b6\n",
    "relu_f3 = tf.nn.relu(f3)\n",
    "dropout_f3 = tf.nn.dropout(relu_f3,0.75)\n",
    "\n",
    "# 第四层全连接，softmax输出\n",
    "w7 = weight_init([128,2])\n",
    "b7 = bias_init([2])\n",
    "f4 = tf.matmul(dropout_f3,w7)+b7\n",
    "softmax_f = tf.nn.softmax(f4,name=\"softmax_f\")\n",
    "# softmax_f = tf.sigmoid(f4,name=\"sigmoid_f\")"
   ]
  },
  {
   "cell_type": "code",
   "execution_count": 338,
   "metadata": {},
   "outputs": [],
   "source": [
    "# 反向传播\n",
    "# 交叉熵损失函数\n",
    "cross_entry = tf.reduce_mean(\n",
    "    tf.reduce_sum(-input_labels*tf.log(softmax_f)))\n",
    "binary_cross = tf.keras.losses.binary_crossentropy(input_labels,softmax_f)\n",
    "optimizer = tf.train.AdamOptimizer(learning_rate).minimize(binary_cross)"
   ]
  },
  {
   "cell_type": "code",
   "execution_count": 339,
   "metadata": {},
   "outputs": [],
   "source": [
    "#计算准确率\n",
    "arg1 = tf.argmax(input_labels,-1)\n",
    "arg2 = tf.argmax(softmax_f,-1)\n",
    "cos = tf.equal(arg1,arg2)\n",
    "acc = tf.reduce_mean(tf.cast(cos,dtype=tf.float32))"
   ]
  },
  {
   "cell_type": "code",
   "execution_count": 340,
   "metadata": {},
   "outputs": [
    {
     "name": "stdout",
     "output_type": "stream",
     "text": [
      "第0轮，\tloss=897.1817626953125,\tacc=0.7220077514648438\n",
      "第1轮，\tloss=nan,\tacc=0.7808219194412231\n",
      "第2轮，\tloss=781.305419921875,\tacc=0.7276264429092407\n",
      "第3轮，\tloss=638.805908203125,\tacc=0.7792207598686218\n",
      "第4轮，\tloss=507.30902099609375,\tacc=0.8355555534362793\n",
      "第5轮，\tloss=544.2821655273438,\tacc=0.7772511839866638\n",
      "第6轮，\tloss=615.5455932617188,\tacc=0.7991967797279358\n",
      "第7轮，\tloss=344.974609375,\tacc=0.8169013857841492\n",
      "第8轮，\tloss=429.22735595703125,\tacc=0.8655462265014648\n",
      "第9轮，\tloss=326.9242248535156,\tacc=0.8545454740524292\n",
      "第10轮，\tloss=489.73345947265625,\tacc=0.8149779438972473\n",
      "第11轮，\tloss=426.7086181640625,\tacc=0.8488371968269348\n",
      "第12轮，\tloss=336.44854736328125,\tacc=0.8796680569648743\n",
      "第13轮，\tloss=459.2320556640625,\tacc=0.8550724387168884\n",
      "第14轮，\tloss=230.94094848632812,\tacc=0.8497652411460876\n",
      "第15轮，\tloss=nan,\tacc=0.8863636255264282\n",
      "第16轮，\tloss=184.56597900390625,\tacc=0.9306930899620056\n",
      "第17轮，\tloss=379.20489501953125,\tacc=0.8659793734550476\n",
      "第18轮，\tloss=nan,\tacc=0.9079498052597046\n",
      "第19轮，\tloss=nan,\tacc=0.8666666746139526\n",
      "第20轮，\tloss=nan,\tacc=0.9112149477005005\n",
      "第21轮，\tloss=nan,\tacc=0.9225092530250549\n",
      "第22轮，\tloss=nan,\tacc=0.9042553305625916\n",
      "第23轮，\tloss=nan,\tacc=0.9580152630805969\n",
      "第24轮，\tloss=nan,\tacc=0.9383886456489563\n",
      "第25轮，\tloss=nan,\tacc=0.9435483813285828\n",
      "第26轮，\tloss=nan,\tacc=0.9417808055877686\n",
      "第27轮，\tloss=nan,\tacc=0.9406779408454895\n",
      "第28轮，\tloss=nan,\tacc=0.914893627166748\n",
      "第29轮，\tloss=nan,\tacc=0.9561753273010254\n",
      "第30轮，\tloss=nan,\tacc=0.9256198406219482\n",
      "第31轮，\tloss=198.88699340820312,\tacc=0.918149471282959\n",
      "第32轮，\tloss=nan,\tacc=0.9671361446380615\n",
      "第33轮，\tloss=nan,\tacc=0.9634703397750854\n",
      "第34轮，\tloss=nan,\tacc=0.9633699655532837\n",
      "第35轮，\tloss=nan,\tacc=0.9589040875434875\n",
      "第36轮，\tloss=nan,\tacc=0.9579439163208008\n",
      "第37轮，\tloss=nan,\tacc=0.9644268751144409\n",
      "第38轮，\tloss=nan,\tacc=0.9528619647026062\n",
      "第39轮，\tloss=nan,\tacc=0.957446813583374\n",
      "第40轮，\tloss=nan,\tacc=0.98046875\n",
      "第41轮，\tloss=nan,\tacc=0.9647058844566345\n",
      "第42轮，\tloss=nan,\tacc=0.9908257126808167\n",
      "第43轮，\tloss=nan,\tacc=0.9650349617004395\n",
      "第44轮，\tloss=nan,\tacc=0.9740740656852722\n",
      "第45轮，\tloss=nan,\tacc=0.9825174808502197\n",
      "第46轮，\tloss=nan,\tacc=0.9677419066429138\n",
      "第47轮，\tloss=nan,\tacc=0.9725086092948914\n",
      "第48轮，\tloss=nan,\tacc=0.9876033067703247\n",
      "第49轮，\tloss=nan,\tacc=0.982758641242981\n",
      "第50轮，\tloss=nan,\tacc=0.9797570705413818\n",
      "第51轮，\tloss=nan,\tacc=0.9791666865348816\n",
      "第52轮，\tloss=nan,\tacc=0.9806950092315674\n",
      "第53轮，\tloss=nan,\tacc=0.9717742204666138\n",
      "第54轮，\tloss=nan,\tacc=0.9812734127044678\n",
      "第55轮，\tloss=nan,\tacc=0.9765100479125977\n",
      "第56轮，\tloss=nan,\tacc=0.9763033390045166\n",
      "第57轮，\tloss=nan,\tacc=0.9860464930534363\n",
      "第58轮，\tloss=nan,\tacc=0.9814814925193787\n",
      "第59轮，\tloss=nan,\tacc=0.9893238544464111\n",
      "第60轮，\tloss=nan,\tacc=0.980861246585846\n",
      "第61轮，\tloss=nan,\tacc=0.975806474685669\n",
      "第62轮，\tloss=nan,\tacc=0.9828178882598877\n",
      "第63轮，\tloss=nan,\tacc=0.981566846370697\n",
      "第64轮，\tloss=nan,\tacc=0.9922178983688354\n",
      "第65轮，\tloss=nan,\tacc=0.9797979593276978\n",
      "第66轮，\tloss=nan,\tacc=0.9855072498321533\n",
      "第67轮，\tloss=nan,\tacc=0.9889705777168274\n",
      "第68轮，\tloss=nan,\tacc=0.9790940880775452\n",
      "第69轮，\tloss=nan,\tacc=0.98828125\n",
      "第70轮，\tloss=nan,\tacc=0.9863481521606445\n",
      "第71轮，\tloss=nan,\tacc=0.9833333492279053\n",
      "第72轮，\tloss=nan,\tacc=0.9954545497894287\n",
      "第73轮，\tloss=nan,\tacc=0.9958847761154175\n",
      "第74轮，\tloss=nan,\tacc=0.9863481521606445\n",
      "第75轮，\tloss=nan,\tacc=0.9866666793823242\n",
      "第76轮，\tloss=nan,\tacc=0.9890909194946289\n",
      "第77轮，\tloss=nan,\tacc=0.9897260069847107\n",
      "第78轮，\tloss=nan,\tacc=0.9823788404464722\n",
      "第79轮，\tloss=nan,\tacc=0.9815497994422913\n",
      "第80轮，\tloss=nan,\tacc=0.9879032373428345\n",
      "第81轮，\tloss=nan,\tacc=0.9959677457809448\n",
      "第82轮，\tloss=nan,\tacc=0.9958333373069763\n",
      "第83轮，\tloss=nan,\tacc=0.9801980257034302\n",
      "第84轮，\tloss=nan,\tacc=0.9884169697761536\n",
      "第85轮，\tloss=nan,\tacc=0.9855595827102661\n",
      "第86轮，\tloss=nan,\tacc=0.9960784316062927\n",
      "第87轮，\tloss=nan,\tacc=0.9825174808502197\n",
      "第88轮，\tloss=nan,\tacc=0.9846153855323792\n",
      "第89轮，\tloss=nan,\tacc=1.0\n",
      "第90轮，\tloss=nan,\tacc=0.992337167263031\n",
      "第91轮，\tloss=nan,\tacc=0.9964788556098938\n",
      "第92轮，\tloss=nan,\tacc=0.981566846370697\n",
      "第93轮，\tloss=nan,\tacc=0.9867841601371765\n",
      "第94轮，\tloss=nan,\tacc=0.9931507110595703\n",
      "第95轮，\tloss=nan,\tacc=0.9757785201072693\n",
      "第96轮，\tloss=nan,\tacc=0.9867841601371765\n",
      "第97轮，\tloss=nan,\tacc=0.9798657894134521\n",
      "第98轮，\tloss=nan,\tacc=0.9853479862213135\n",
      "第99轮，\tloss=nan,\tacc=0.9933333396911621\n",
      "第100轮，\tloss=nan,\tacc=0.9951691031455994\n",
      "第101轮，\tloss=nan,\tacc=0.996268630027771\n",
      "第102轮，\tloss=nan,\tacc=0.9919028282165527\n",
      "第103轮，\tloss=nan,\tacc=0.97826087474823\n",
      "第104轮，\tloss=nan,\tacc=0.9861591458320618\n",
      "第105轮，\tloss=nan,\tacc=0.9961240291595459\n",
      "第106轮，\tloss=nan,\tacc=0.9953488111495972\n",
      "第107轮，\tloss=nan,\tacc=0.9961685538291931\n",
      "第108轮，\tloss=nan,\tacc=0.9741697311401367\n",
      "第109轮，\tloss=nan,\tacc=0.9913420081138611\n",
      "第110轮，\tloss=nan,\tacc=0.988095223903656\n",
      "第111轮，\tloss=nan,\tacc=0.9857819676399231\n",
      "第112轮，\tloss=nan,\tacc=0.979238748550415\n",
      "第113轮，\tloss=nan,\tacc=0.9863481521606445\n",
      "第114轮，\tloss=nan,\tacc=0.9964157938957214\n",
      "第115轮，\tloss=nan,\tacc=0.9962406158447266\n",
      "第116轮，\tloss=nan,\tacc=1.0\n",
      "第117轮，\tloss=nan,\tacc=0.9812206625938416\n",
      "第118轮，\tloss=nan,\tacc=0.9900497794151306\n",
      "第119轮，\tloss=nan,\tacc=0.9921259880065918\n",
      "第120轮，\tloss=nan,\tacc=1.0\n",
      "第121轮，\tloss=nan,\tacc=0.9965277910232544\n",
      "第122轮，\tloss=nan,\tacc=0.9927007555961609\n",
      "第123轮，\tloss=nan,\tacc=0.996363639831543\n",
      "第124轮，\tloss=nan,\tacc=0.9881423115730286\n",
      "第125轮，\tloss=nan,\tacc=0.9957982897758484\n",
      "第126轮，\tloss=nan,\tacc=0.9959349632263184\n",
      "第127轮，\tloss=nan,\tacc=1.0\n",
      "第128轮，\tloss=nan,\tacc=0.9918699264526367\n",
      "第129轮，\tloss=nan,\tacc=0.9962406158447266\n",
      "第130轮，\tloss=nan,\tacc=0.995555579662323\n",
      "第131轮，\tloss=nan,\tacc=0.9957982897758484\n",
      "第132轮，\tloss=nan,\tacc=0.9953051805496216\n",
      "第133轮，\tloss=nan,\tacc=1.0\n",
      "第134轮，\tloss=nan,\tacc=1.0\n",
      "第135轮，\tloss=nan,\tacc=1.0\n",
      "第136轮，\tloss=nan,\tacc=0.9958847761154175\n",
      "第137轮，\tloss=nan,\tacc=0.9900497794151306\n",
      "第138轮，\tloss=nan,\tacc=0.9912280440330505\n",
      "第139轮，\tloss=nan,\tacc=0.9966216087341309\n",
      "第140轮，\tloss=nan,\tacc=0.9964157938957214\n",
      "第141轮，\tloss=nan,\tacc=0.9961977005004883\n",
      "第142轮，\tloss=nan,\tacc=1.0\n",
      "第143轮，\tloss=nan,\tacc=0.99245285987854\n",
      "第144轮，\tloss=nan,\tacc=1.0\n",
      "第145轮，\tloss=nan,\tacc=0.9960317611694336\n",
      "第146轮，\tloss=nan,\tacc=0.9961977005004883\n",
      "第147轮，\tloss=nan,\tacc=0.9953488111495972\n",
      "第148轮，\tloss=nan,\tacc=0.9823943376541138\n",
      "第149轮，\tloss=nan,\tacc=1.0\n",
      "第150轮，\tloss=nan,\tacc=0.9961977005004883\n",
      "第151轮，\tloss=nan,\tacc=0.9953051805496216\n",
      "第152轮，\tloss=nan,\tacc=1.0\n",
      "第153轮，\tloss=nan,\tacc=0.99622642993927\n",
      "第154轮，\tloss=nan,\tacc=0.9951456189155579\n",
      "第155轮，\tloss=nan,\tacc=1.0\n",
      "第156轮，\tloss=nan,\tacc=0.9961240291595459\n",
      "第157轮，\tloss=nan,\tacc=0.9888888597488403\n",
      "第158轮，\tloss=nan,\tacc=1.0\n",
      "第159轮，\tloss=nan,\tacc=1.0\n",
      "第160轮，\tloss=nan,\tacc=0.996515691280365\n",
      "第161轮，\tloss=nan,\tacc=1.0\n",
      "第162轮，\tloss=nan,\tacc=0.9892857074737549\n",
      "第163轮，\tloss=nan,\tacc=0.9919999837875366\n",
      "第164轮，\tloss=nan,\tacc=1.0\n",
      "第165轮，\tloss=nan,\tacc=1.0\n",
      "第166轮，\tloss=nan,\tacc=0.9926199316978455\n",
      "第167轮，\tloss=nan,\tacc=0.9927272796630859\n",
      "第168轮，\tloss=nan,\tacc=0.995708167552948\n",
      "第169轮，\tloss=nan,\tacc=0.9955947399139404\n",
      "第170轮，\tloss=nan,\tacc=0.9965517520904541\n",
      "第171轮，\tloss=nan,\tacc=1.0\n",
      "第172轮，\tloss=nan,\tacc=0.9925925731658936\n",
      "第173轮，\tloss=nan,\tacc=0.99609375\n",
      "第174轮，\tloss=nan,\tacc=0.9961089491844177\n",
      "第175轮，\tloss=nan,\tacc=0.9910314083099365\n",
      "第176轮，\tloss=nan,\tacc=0.9900000095367432\n",
      "第177轮，\tloss=nan,\tacc=1.0\n",
      "第178轮，\tloss=nan,\tacc=0.995192289352417\n",
      "第179轮，\tloss=nan,\tacc=0.9926470518112183\n",
      "第180轮，\tloss=nan,\tacc=0.9962121248245239\n",
      "第181轮，\tloss=nan,\tacc=0.9965277910232544\n",
      "第182轮，\tloss=nan,\tacc=0.9932885766029358\n",
      "第183轮，\tloss=nan,\tacc=1.0\n",
      "第184轮，\tloss=nan,\tacc=0.9962406158447266\n",
      "第185轮，\tloss=nan,\tacc=1.0\n",
      "第186轮，\tloss=nan,\tacc=0.9954338073730469\n",
      "第187轮，\tloss=nan,\tacc=1.0\n",
      "第188轮，\tloss=nan,\tacc=1.0\n",
      "第189轮，\tloss=nan,\tacc=0.9951456189155579\n",
      "第190轮，\tloss=nan,\tacc=0.9954751133918762\n",
      "第191轮，\tloss=nan,\tacc=0.9952830076217651\n",
      "第192轮，\tloss=nan,\tacc=0.9962962865829468\n",
      "第193轮，\tloss=nan,\tacc=0.9959839582443237\n",
      "第194轮，\tloss=nan,\tacc=1.0\n",
      "第195轮，\tloss=nan,\tacc=0.9959514141082764\n",
      "第196轮，\tloss=nan,\tacc=0.9961240291595459\n",
      "第197轮，\tloss=nan,\tacc=0.9960784316062927\n",
      "第198轮，\tloss=nan,\tacc=1.0\n",
      "第199轮，\tloss=nan,\tacc=1.0\n"
     ]
    }
   ],
   "source": [
    "init = tf.global_variables_initializer()\n",
    "sess = tf.Session()\n",
    "sess.run(init)\n",
    "Cost = []\n",
    "Accuracy = []\n",
    "for i in range(train_epochs):\n",
    "    batch_size = random.randint(200,300)\n",
    "    batch_start = random.randint(0,len(images_train)-300)\n",
    "    train_input = images_train[batch_start:(batch_start+batch_size)]\n",
    "    train_labels = labels_train[batch_start:(batch_start+batch_size)]\n",
    "    result,acc1,cross_entry_r,cos1,f_softmax1,relu_1_r= sess.run([optimizer,acc,cross_entry,cos,softmax_f,relu_1],feed_dict={images_input:train_input,labels_input:train_labels})\n",
    "    print(f\"第{i}轮，\\tloss={cross_entry_r},\\tacc={acc1}\")\n",
    "    Cost.append(cross_entry_r)\n",
    "    Accuracy.append(acc1)"
   ]
  },
  {
   "cell_type": "code",
   "execution_count": 341,
   "metadata": {},
   "outputs": [
    {
     "data": {
      "image/png": "[encoded data removed]",
      "text/plain": [
       "<Figure size 720x504 with 1 Axes>"
      ]
     },
     "metadata": {
      "needs_background": "light"
     },
     "output_type": "display_data"
    },
    {
     "data": {
      "image/png": "[encoded data removed]",
      "text/plain": [
       "<Figure size 720x504 with 1 Axes>"
      ]
     },
     "metadata": {
      "needs_background": "light"
     },
     "output_type": "display_data"
    },
    {
     "name": "stdout",
     "output_type": "stream",
     "text": [
      "[0 0 0 0 0 0 0 0 0 0 0 0 0 0 0 0 0 0 0 0 0 0 0 0 0 0 0 0 0 0 0 0 0 1 0 0 0\n",
      " 0 0 0 0 0 0 0 0 0 0 0 0 0 0 0 0 0 0 0 0 0 0 0 0 0 0 0 0 0 0 0 0 0 0 0 0 0\n",
      " 0 0 0 0 0 0] [0]\n"
     ]
    },
    {
     "ename": "ValueError",
     "evalue": "Found input variables with inconsistent numbers of samples: [1, 80]",
     "output_type": "error",
     "traceback": [
      "\u001b[0;31m---------------------------------------------------------------------------\u001b[0m",
      "\u001b[0;31mValueError\u001b[0m                                Traceback (most recent call last)",
      "\u001b[0;32m<ipython-input-341-a9496c6ac690>\u001b[0m in \u001b[0;36m<module>\u001b[0;34m\u001b[0m\n\u001b[1;32m     22\u001b[0m \u001b[0marg1_r\u001b[0m \u001b[0;34m=\u001b[0m \u001b[0msess\u001b[0m\u001b[0;34m.\u001b[0m\u001b[0mrun\u001b[0m\u001b[0;34m(\u001b[0m\u001b[0marg1\u001b[0m\u001b[0;34m,\u001b[0m\u001b[0mfeed_dict\u001b[0m\u001b[0;34m=\u001b[0m\u001b[0;34m{\u001b[0m\u001b[0mimages_input\u001b[0m\u001b[0;34m:\u001b[0m\u001b[0mimages_test\u001b[0m\u001b[0;34m,\u001b[0m\u001b[0mlabels_input\u001b[0m\u001b[0;34m:\u001b[0m\u001b[0mlabelsa_test\u001b[0m\u001b[0;34m}\u001b[0m\u001b[0;34m)\u001b[0m\u001b[0;34m\u001b[0m\u001b[0m\n\u001b[1;32m     23\u001b[0m \u001b[0mprint\u001b[0m\u001b[0;34m(\u001b[0m\u001b[0marg2_r\u001b[0m\u001b[0;34m,\u001b[0m\u001b[0marg1_r\u001b[0m\u001b[0;34m)\u001b[0m\u001b[0;34m\u001b[0m\u001b[0m\n\u001b[0;32m---> 24\u001b[0;31m \u001b[0mprint\u001b[0m \u001b[0;34m(\u001b[0m\u001b[0mclassification_report\u001b[0m\u001b[0;34m(\u001b[0m\u001b[0marg1_r\u001b[0m\u001b[0;34m,\u001b[0m \u001b[0marg2_r\u001b[0m\u001b[0;34m)\u001b[0m\u001b[0;34m)\u001b[0m\u001b[0;34m\u001b[0m\u001b[0m\n\u001b[0m\u001b[1;32m     25\u001b[0m \u001b[0;34m\u001b[0m\u001b[0m\n\u001b[1;32m     26\u001b[0m \u001b[0;31m#保存模型\u001b[0m\u001b[0;34m\u001b[0m\u001b[0;34m\u001b[0m\u001b[0m\n",
      "\u001b[0;32m~/anaconda3/envs/tensorflowgpu/lib/python3.6/site-packages/sklearn/utils/validation.py\u001b[0m in \u001b[0;36minner_f\u001b[0;34m(*args, **kwargs)\u001b[0m\n\u001b[1;32m     70\u001b[0m                           FutureWarning)\n\u001b[1;32m     71\u001b[0m         \u001b[0mkwargs\u001b[0m\u001b[0;34m.\u001b[0m\u001b[0mupdate\u001b[0m\u001b[0;34m(\u001b[0m\u001b[0;34m{\u001b[0m\u001b[0mk\u001b[0m\u001b[0;34m:\u001b[0m \u001b[0marg\u001b[0m \u001b[0;32mfor\u001b[0m \u001b[0mk\u001b[0m\u001b[0;34m,\u001b[0m \u001b[0marg\u001b[0m \u001b[0;32min\u001b[0m \u001b[0mzip\u001b[0m\u001b[0;34m(\u001b[0m\u001b[0msig\u001b[0m\u001b[0;34m.\u001b[0m\u001b[0mparameters\u001b[0m\u001b[0;34m,\u001b[0m \u001b[0margs\u001b[0m\u001b[0;34m)\u001b[0m\u001b[0;34m}\u001b[0m\u001b[0;34m)\u001b[0m\u001b[0;34m\u001b[0m\u001b[0m\n\u001b[0;32m---> 72\u001b[0;31m         \u001b[0;32mreturn\u001b[0m \u001b[0mf\u001b[0m\u001b[0;34m(\u001b[0m\u001b[0;34m**\u001b[0m\u001b[0mkwargs\u001b[0m\u001b[0;34m)\u001b[0m\u001b[0;34m\u001b[0m\u001b[0m\n\u001b[0m\u001b[1;32m     73\u001b[0m     \u001b[0;32mreturn\u001b[0m \u001b[0minner_f\u001b[0m\u001b[0;34m\u001b[0m\u001b[0m\n\u001b[1;32m     74\u001b[0m \u001b[0;34m\u001b[0m\u001b[0m\n",
      "\u001b[0;32m~/anaconda3/envs/tensorflowgpu/lib/python3.6/site-packages/sklearn/metrics/_classification.py\u001b[0m in \u001b[0;36mclassification_report\u001b[0;34m(y_true, y_pred, labels, target_names, sample_weight, digits, output_dict, zero_division)\u001b[0m\n\u001b[1;32m   1927\u001b[0m     \"\"\"\n\u001b[1;32m   1928\u001b[0m \u001b[0;34m\u001b[0m\u001b[0m\n\u001b[0;32m-> 1929\u001b[0;31m     \u001b[0my_type\u001b[0m\u001b[0;34m,\u001b[0m \u001b[0my_true\u001b[0m\u001b[0;34m,\u001b[0m \u001b[0my_pred\u001b[0m \u001b[0;34m=\u001b[0m \u001b[0m_check_targets\u001b[0m\u001b[0;34m(\u001b[0m\u001b[0my_true\u001b[0m\u001b[0;34m,\u001b[0m \u001b[0my_pred\u001b[0m\u001b[0;34m)\u001b[0m\u001b[0;34m\u001b[0m\u001b[0m\n\u001b[0m\u001b[1;32m   1930\u001b[0m \u001b[0;34m\u001b[0m\u001b[0m\n\u001b[1;32m   1931\u001b[0m     \u001b[0mlabels_given\u001b[0m \u001b[0;34m=\u001b[0m \u001b[0;32mTrue\u001b[0m\u001b[0;34m\u001b[0m\u001b[0m\n",
      "\u001b[0;32m~/anaconda3/envs/tensorflowgpu/lib/python3.6/site-packages/sklearn/metrics/_classification.py\u001b[0m in \u001b[0;36m_check_targets\u001b[0;34m(y_true, y_pred)\u001b[0m\n\u001b[1;32m     79\u001b[0m     \u001b[0my_pred\u001b[0m \u001b[0;34m:\u001b[0m \u001b[0marray\u001b[0m \u001b[0;32mor\u001b[0m \u001b[0mindicator\u001b[0m \u001b[0mmatrix\u001b[0m\u001b[0;34m\u001b[0m\u001b[0m\n\u001b[1;32m     80\u001b[0m     \"\"\"\n\u001b[0;32m---> 81\u001b[0;31m     \u001b[0mcheck_consistent_length\u001b[0m\u001b[0;34m(\u001b[0m\u001b[0my_true\u001b[0m\u001b[0;34m,\u001b[0m \u001b[0my_pred\u001b[0m\u001b[0;34m)\u001b[0m\u001b[0;34m\u001b[0m\u001b[0m\n\u001b[0m\u001b[1;32m     82\u001b[0m     \u001b[0mtype_true\u001b[0m \u001b[0;34m=\u001b[0m \u001b[0mtype_of_target\u001b[0m\u001b[0;34m(\u001b[0m\u001b[0my_true\u001b[0m\u001b[0;34m)\u001b[0m\u001b[0;34m\u001b[0m\u001b[0m\n\u001b[1;32m     83\u001b[0m     \u001b[0mtype_pred\u001b[0m \u001b[0;34m=\u001b[0m \u001b[0mtype_of_target\u001b[0m\u001b[0;34m(\u001b[0m\u001b[0my_pred\u001b[0m\u001b[0;34m)\u001b[0m\u001b[0;34m\u001b[0m\u001b[0m\n",
      "\u001b[0;32m~/anaconda3/envs/tensorflowgpu/lib/python3.6/site-packages/sklearn/utils/validation.py\u001b[0m in \u001b[0;36mcheck_consistent_length\u001b[0;34m(*arrays)\u001b[0m\n\u001b[1;32m    254\u001b[0m     \u001b[0;32mif\u001b[0m \u001b[0mlen\u001b[0m\u001b[0;34m(\u001b[0m\u001b[0muniques\u001b[0m\u001b[0;34m)\u001b[0m \u001b[0;34m>\u001b[0m \u001b[0;36m1\u001b[0m\u001b[0;34m:\u001b[0m\u001b[0;34m\u001b[0m\u001b[0m\n\u001b[1;32m    255\u001b[0m         raise ValueError(\"Found input variables with inconsistent numbers of\"\n\u001b[0;32m--> 256\u001b[0;31m                          \" samples: %r\" % [int(l) for l in lengths])\n\u001b[0m\u001b[1;32m    257\u001b[0m \u001b[0;34m\u001b[0m\u001b[0m\n\u001b[1;32m    258\u001b[0m \u001b[0;34m\u001b[0m\u001b[0m\n",
      "\u001b[0;31mValueError\u001b[0m: Found input variables with inconsistent numbers of samples: [1, 80]"
     ]
    }
   ],
   "source": [
    "# 代价函数曲线\n",
    "fig1,ax1 = plt.subplots(figsize=(10,7))\n",
    "plt.plot(Cost)\n",
    "ax1.set_xlabel('Epochs')\n",
    "ax1.set_ylabel('Cost')\n",
    "plt.title('Cross Loss')\n",
    "plt.grid()\n",
    "plt.show()\n",
    "\n",
    "# 准确率曲线\n",
    "fig7,ax7 = plt.subplots(figsize=(10,7))\n",
    "plt.plot(Accuracy)\n",
    "ax7.set_xlabel('Epochs')\n",
    "ax7.set_ylabel('Accuracy Rate')\n",
    "plt.title('Train Accuracy Rate')\n",
    "plt.grid()\n",
    "plt.show()\n",
    "\n",
    "\n",
    "#测试\n",
    "arg2_r = sess.run(arg2,feed_dict={images_input:images_test,labels_input:labelsa_test})\n",
    "arg1_r = sess.run(arg1,feed_dict={images_input:images_test,labels_input:labelsa_test})\n",
    "print(arg2_r,arg1_r)\n",
    "print (classification_report(arg1_r, arg2_r))\n",
    "\n",
    "#保存模型\n",
    "saver = tf.train.Saver()\n",
    "saver.save(sess, './model/my-gender-v1.0')"
   ]
  },
  {
   "cell_type": "code",
   "execution_count": null,
   "metadata": {},
   "outputs": [],
   "source": []
  }
 ],
 "metadata": {
  "kernelspec": {
   "display_name": "Python 3",
   "language": "python",
   "name": "python3"
  },
  "language_info": {
   "codemirror_mode": {
    "name": "ipython",
    "version": 3
   },
   "file_extension": ".py",
   "mimetype": "text/x-python",
   "name": "python",
   "nbconvert_exporter": "python",
   "pygments_lexer": "ipython3",
   "version": "3.6.5"
  }
 },
 "nbformat": 4,
 "nbformat_minor": 4
}
