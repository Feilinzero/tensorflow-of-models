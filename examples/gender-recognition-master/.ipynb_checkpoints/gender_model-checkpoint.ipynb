{
 "cells": [
  {
   "cell_type": "markdown",
   "metadata": {},
   "source": [
    "## 图像数据处理"
   ]
  },
  {
   "cell_type": "code",
   "execution_count": 290,
   "metadata": {},
   "outputs": [],
   "source": [
    "import os\n",
    "import numpy as np\n",
    "import cv2"
   ]
  },
  {
   "cell_type": "code",
   "execution_count": 291,
   "metadata": {},
   "outputs": [],
   "source": [
    "def get_img_list(dirname,flag=0):  # 读取文件列表\n",
    "    rootdir = os.path.abspath('./data/' + dirname + '/')\n",
    "    list = os.listdir(rootdir)  # 列出文件夹下所有的目录与文件\n",
    "    files = []\n",
    "    for i in range(0, len(list)):\n",
    "        path = os.path.join(rootdir, list[i])\n",
    "        if os.path.isfile(path):\n",
    "            files.append(path)\n",
    "    return files"
   ]
  },
  {
   "cell_type": "code",
   "execution_count": 292,
   "metadata": {},
   "outputs": [],
   "source": [
    "def read_img(list, flag=0):  # 读取图片为数据\n",
    "    for i in range(len(list) - 1):\n",
    "        if os.path.isfile(list[i]):\n",
    "            images.append(cv2.imread(list[i]).flatten())\n",
    "            labels.append(flag)"
   ]
  },
  {
   "cell_type": "code",
   "execution_count": 293,
   "metadata": {},
   "outputs": [],
   "source": [
    "images = []\n",
    "labels = []\n",
    "\n",
    "# 读取图像数据并做标记\n",
    "read_img(get_img_list('male'), [0, 1])\n",
    "read_img(get_img_list('female'), [1, 0])\n",
    "\n",
    "# 转换数组\n",
    "images = np.array(images)\n",
    "labels = np.array(labels)"
   ]
  },
  {
   "cell_type": "code",
   "execution_count": 294,
   "metadata": {},
   "outputs": [
    {
     "data": {
      "text/plain": [
       "(397, 397, (397, 30912), (397, 2))"
      ]
     },
     "execution_count": 294,
     "metadata": {},
     "output_type": "execute_result"
    }
   ],
   "source": [
    "len(images),len(labels),images.shape,labels.shape"
   ]
  },
  {
   "cell_type": "code",
   "execution_count": 295,
   "metadata": {},
   "outputs": [
    {
     "data": {
      "text/plain": [
       "(array([ 84,  84,  84, ..., 228, 228, 228], dtype=uint8), array([0, 1]))"
      ]
     },
     "execution_count": 295,
     "metadata": {},
     "output_type": "execute_result"
    }
   ],
   "source": [
    "images[0],labels[0]"
   ]
  },
  {
   "cell_type": "code",
   "execution_count": 296,
   "metadata": {},
   "outputs": [],
   "source": [
    "# np.random.permutation(index)对指定范围的序列进行随机排序\n",
    "per = np.random.permutation(labels.shape[0])\n",
    "# 重新排序\n",
    "all_images = images[per,:]\n",
    "all_labels = labels[per,:]"
   ]
  },
  {
   "cell_type": "code",
   "execution_count": 297,
   "metadata": {},
   "outputs": [],
   "source": [
    "# 拆分测试集与训练集，2:8\n",
    "images_total = all_images.shape[0]\n",
    "# 切片索引需整数\n",
    "train_num = int(images_total*0.8)\n",
    "test_num = images_total-train_num\n",
    "\n",
    "images_train = all_images[0:train_num,:].astype(\"float32\")\n",
    "labels_train = all_labels[0:train_num,:].astype(\"float32\")\n",
    "images_test = all_images[train_num:images_total,:].astype(\"float32\")\n",
    "labelsa_test = all_labels[train_num:images_total,:].astype(\"float32\")"
   ]
  },
  {
   "cell_type": "code",
   "execution_count": 298,
   "metadata": {},
   "outputs": [
    {
     "data": {
      "text/plain": [
       "((317, 30912), (317, 2))"
      ]
     },
     "execution_count": 298,
     "metadata": {},
     "output_type": "execute_result"
    }
   ],
   "source": [
    "images_train.shape,labels_train.shape"
   ]
  },
  {
   "cell_type": "markdown",
   "metadata": {},
   "source": [
    "## 构建定义模型"
   ]
  },
  {
   "cell_type": "code",
   "execution_count": 299,
   "metadata": {},
   "outputs": [],
   "source": [
    "np.set_printoptions(suppress=True)  # 设置小数不以科学计数法输出"
   ]
  },
  {
   "cell_type": "code",
   "execution_count": 300,
   "metadata": {},
   "outputs": [
    {
     "name": "stderr",
     "output_type": "stream",
     "text": [
      "Clipping input data to the valid range for imshow with RGB data ([0..1] for floats or [0..255] for integers).\n"
     ]
    },
    {
     "data": {
      "image/png": "[encoded data removed]",
      "text/plain": [
       "<Figure size 288x288 with 1 Axes>"
      ]
     },
     "metadata": {
      "needs_background": "light"
     },
     "output_type": "display_data"
    },
    {
     "data": {
      "text/plain": [
       "(array([0., 1.], dtype=float32),\n",
       " array([[129., 129., 129., ...,  47.,  47.,  47.],\n",
       "        [253., 253., 253., ..., 253., 253., 253.],\n",
       "        [ 17.,  17.,  17., ..., 253., 253., 253.],\n",
       "        ...,\n",
       "        [248., 248., 248., ..., 255., 255., 255.],\n",
       "        [ 83.,  83.,  83., ...,  65.,  65.,  65.],\n",
       "        [255., 255., 255., ..., 226., 226., 226.]], dtype=float32))"
      ]
     },
     "execution_count": 300,
     "metadata": {},
     "output_type": "execute_result"
    }
   ],
   "source": [
    "import matplotlib.pyplot as plt\n",
    "# 绘制一张图像\n",
    "input_images = images_train[1]\n",
    "input_labels = labels_train[1]\n",
    "fig,ax = plt.subplots(figsize=(4,4))\n",
    "ax.imshow(np.reshape(input_images,(112,92,3)))\n",
    "plt.show()\n",
    "input_labels,images_train"
   ]
  },
  {
   "cell_type": "code",
   "execution_count": 301,
   "metadata": {},
   "outputs": [],
   "source": [
    "import tensorflow as tf\n",
    "import random\n",
    "from sklearn.metrics import confusion_matrix, classification_report"
   ]
  },
  {
   "cell_type": "code",
   "execution_count": 302,
   "metadata": {},
   "outputs": [
    {
     "data": {
      "text/plain": [
       "<tf.Tensor 'images_input_14:0' shape=(?, 30912) dtype=float32>"
      ]
     },
     "execution_count": 302,
     "metadata": {},
     "output_type": "execute_result"
    }
   ],
   "source": [
    "\n",
    "# 训练参数\n",
    "train_epochs = 3000\n",
    "drop_out = 0.6\n",
    "learning_rate = 0.00001\n",
    "\n",
    "def weight_init(shape):\n",
    "    # 截断的产生正态分布的随机数，即随机数与均值的差值若大于两倍的标准差，则重新生成。\n",
    "    weight = tf.truncated_normal(shape,stddev=0.1,dtype=tf.float32)\n",
    "    return tf.Variable(weight)\n",
    "def bias_init(shape):\n",
    "    bias = tf.random_normal(shape,dtype=tf.float32)\n",
    "    return tf.Variable(bias)\n",
    "\n",
    "\"\"\"\n",
    "输入占位\n",
    "    input_images: [None,112*92*3]\n",
    "    input_labels: [None,2]\n",
    "\"\"\"\n",
    "images_input = tf.placeholder(tf.float32,[None,images_train.shape[1]],\n",
    "                              name = \"images_input\")\n",
    "labels_input = tf.placeholder(tf.float32,[None,labels_train.shape[1]],\n",
    "                             name = \"labels_input\")\n",
    "images_input"
   ]
  },
  {
   "cell_type": "code",
   "execution_count": 303,
   "metadata": {},
   "outputs": [],
   "source": [
    "\"\"\"\n",
    "input/out: [None,nH,nW,channels]\n",
    "padding:\n",
    "    VALID:不填充数据\n",
    "    SAME:填充数据\n",
    "\"\"\"\n",
    "def conv2d(images,filter_input,lname):\n",
    "    return tf.nn.conv2d(images,filter_input,strides=[1,1,1,1],\n",
    "                        padding=\"SAME\",name=lname)\n",
    "\n",
    "def maxpooling2d(images,lname):\n",
    "    return tf.nn.max_pool(images,ksize=[1,1,1,1],\n",
    "                             strides=[1,1,1,1],padding=\"SAME\")"
   ]
  },
  {
   "cell_type": "code",
   "execution_count": 304,
   "metadata": {},
   "outputs": [],
   "source": [
    "x_input = tf.reshape(images_input,[-1,112,92,3])\n",
    "# x_input,images_input"
   ]
  },
  {
   "cell_type": "code",
   "execution_count": 305,
   "metadata": {},
   "outputs": [],
   "source": [
    "# 前向传播\n",
    "\n",
    "# 第一层卷积  16个[3,3,3]卷积核\n",
    "w1 = weight_init([3,3,3,16])\n",
    "b1 = bias_init([16])\n",
    "conv_1 = conv2d(x_input,w1,\"conv_1\")+b1\n",
    "relu_1 = tf.nn.relu(conv_1)\n",
    "max_pool_1 = maxpooling2d(relu_1,\"max_pool_1\")\n",
    "\n",
    "# 第二层卷积 32个[3,3,3]卷积核\n",
    "w2 = weight_init([3,3,16,32])\n",
    "b2 = bias_init([32])\n",
    "conv_2 = conv2d(max_pool_1,w2,\"conv_2\")+b2\n",
    "relu_2 = tf.nn.relu(conv_2)\n",
    "max_pool_2 = maxpooling2d(relu_2,\"max_pool_2\")\n",
    "\n",
    "# 第三层卷积 64个[3,3,3]卷积核\n",
    "w3 = weight_init([3,3,32,64])\n",
    "b3 = bias_init([64])\n",
    "conv_3 = conv2d(max_pool_2,w3,\"conv_3\")+b3\n",
    "relu_3 = tf.nn.relu(conv_3)\n",
    "max_pool_3 = maxpooling2d(relu_3,\"max_pool_3\")\n",
    "\n",
    "# 展开\n",
    "\n",
    "flatten = tf.reshape(max_pool_3,[-1,14*12*64])"
   ]
  },
  {
   "cell_type": "code",
   "execution_count": 306,
   "metadata": {},
   "outputs": [],
   "source": [
    "# 第一层全连接\n",
    "w4 = weight_init([14*12*64,512])\n",
    "b4 = bias_init([512])\n",
    "f1 = tf.matmul(flatten,w4)+b4\n",
    "relu_f1 = tf.nn.relu(f1)\n",
    "dropout_f1 = tf.nn.dropout(relu_f1,drop_out)\n",
    "\n",
    "# 第二层全连接\n",
    "w5 = weight_init([512,128])\n",
    "b5 = bias_init([128])\n",
    "f2 = tf.matmul(dropout_f1,w5)+b5\n",
    "relu_f2 = tf.nn.relu(f2)\n",
    "dropout_f2 = tf.nn.dropout(relu_f2,drop_out)\n",
    "\n",
    "# 第三层全连接，softmax输出\n",
    "w6 = weight_init([128,2])\n",
    "b6 = bias_init([2])\n",
    "f3 = tf.matmul(dropout_f2,w6)+b6\n",
    "softmax_f = tf.nn.softmax(f3,name=\"softmax_f\")"
   ]
  },
  {
   "cell_type": "code",
   "execution_count": 307,
   "metadata": {},
   "outputs": [],
   "source": [
    "# 反向传播\n",
    "cross_entry = tf.reduce_mean(\n",
    "    tf.reduce_sum(-input_labels*tf.log(softmax_f)))\n",
    "optimizer = tf.train.AdamOptimizer(learning_rate).minimize(cross_entry)"
   ]
  },
  {
   "cell_type": "code",
   "execution_count": 308,
   "metadata": {},
   "outputs": [],
   "source": [
    "#计算准确率\n",
    "arg1 = tf.argmax(input_labels,-1)\n",
    "arg2 = tf.argmax(softmax_f,-1)\n",
    "cos = tf.equal(arg1,arg2)\n",
    "acc = tf.reduce_mean(tf.cast(cos,dtype=tf.float32))"
   ]
  },
  {
   "cell_type": "code",
   "execution_count": 309,
   "metadata": {},
   "outputs": [
    {
     "name": "stdout",
     "output_type": "stream",
     "text": [
      "[[ 55.  55.  55. ...  57.  57.  57.]\n",
      " [186. 186. 186. ... 208. 208. 208.]\n",
      " [176. 176. 176. ... 183. 183. 183.]\n",
      " ...\n",
      " [196. 196. 196. ... 203. 203. 203.]\n",
      " [191. 191. 191. ...  11.  11.  11.]\n",
      " [ 31.  31.  31. ... 236. 236. 236.]] [[1. 0.]\n",
      " [0. 1.]\n",
      " [0. 1.]\n",
      " [0. 1.]\n",
      " [0. 1.]\n",
      " [0. 1.]\n",
      " [1. 0.]\n",
      " [0. 1.]] (8, 30912) (8, 2)\n"
     ]
    },
    {
     "ename": "InvalidArgumentError",
     "evalue": "Input to reshape is a tensor with 5275648 values, but the requested shape requires a multiple of 10752\n\t [[node Reshape_22 (defined at /home/ouyangzhifei/anaconda3/envs/tensorflowgpu/lib/python3.6/site-packages/tensorflow_core/python/framework/ops.py:1748) ]]\n\nOriginal stack trace for 'Reshape_22':\n  File \"/home/ouyangzhifei/anaconda3/envs/tensorflowgpu/lib/python3.6/runpy.py\", line 193, in _run_module_as_main\n    \"__main__\", mod_spec)\n  File \"/home/ouyangzhifei/anaconda3/envs/tensorflowgpu/lib/python3.6/runpy.py\", line 85, in _run_code\n    exec(code, run_globals)\n  File \"/home/ouyangzhifei/anaconda3/envs/tensorflowgpu/lib/python3.6/site-packages/ipykernel_launcher.py\", line 16, in <module>\n    app.launch_new_instance()\n  File \"/home/ouyangzhifei/anaconda3/envs/tensorflowgpu/lib/python3.6/site-packages/traitlets/config/application.py\", line 664, in launch_instance\n    app.start()\n  File \"/home/ouyangzhifei/anaconda3/envs/tensorflowgpu/lib/python3.6/site-packages/ipykernel/kernelapp.py\", line 612, in start\n    self.io_loop.start()\n  File \"/home/ouyangzhifei/anaconda3/envs/tensorflowgpu/lib/python3.6/site-packages/tornado/platform/asyncio.py\", line 149, in start\n    self.asyncio_loop.run_forever()\n  File \"/home/ouyangzhifei/anaconda3/envs/tensorflowgpu/lib/python3.6/asyncio/base_events.py\", line 422, in run_forever\n    self._run_once()\n  File \"/home/ouyangzhifei/anaconda3/envs/tensorflowgpu/lib/python3.6/asyncio/base_events.py\", line 1432, in _run_once\n    handle._run()\n  File \"/home/ouyangzhifei/anaconda3/envs/tensorflowgpu/lib/python3.6/asyncio/events.py\", line 145, in _run\n    self._callback(*self._args)\n  File \"/home/ouyangzhifei/anaconda3/envs/tensorflowgpu/lib/python3.6/site-packages/tornado/ioloop.py\", line 690, in <lambda>\n    lambda f: self._run_callback(functools.partial(callback, future))\n  File \"/home/ouyangzhifei/anaconda3/envs/tensorflowgpu/lib/python3.6/site-packages/tornado/ioloop.py\", line 743, in _run_callback\n    ret = callback()\n  File \"/home/ouyangzhifei/anaconda3/envs/tensorflowgpu/lib/python3.6/site-packages/tornado/gen.py\", line 787, in inner\n    self.run()\n  File \"/home/ouyangzhifei/anaconda3/envs/tensorflowgpu/lib/python3.6/site-packages/tornado/gen.py\", line 748, in run\n    yielded = self.gen.send(value)\n  File \"/home/ouyangzhifei/anaconda3/envs/tensorflowgpu/lib/python3.6/site-packages/ipykernel/kernelbase.py\", line 381, in dispatch_queue\n    yield self.process_one()\n  File \"/home/ouyangzhifei/anaconda3/envs/tensorflowgpu/lib/python3.6/site-packages/tornado/gen.py\", line 225, in wrapper\n    runner = Runner(result, future, yielded)\n  File \"/home/ouyangzhifei/anaconda3/envs/tensorflowgpu/lib/python3.6/site-packages/tornado/gen.py\", line 714, in __init__\n    self.run()\n  File \"/home/ouyangzhifei/anaconda3/envs/tensorflowgpu/lib/python3.6/site-packages/tornado/gen.py\", line 748, in run\n    yielded = self.gen.send(value)\n  File \"/home/ouyangzhifei/anaconda3/envs/tensorflowgpu/lib/python3.6/site-packages/ipykernel/kernelbase.py\", line 365, in process_one\n    yield gen.maybe_future(dispatch(*args))\n  File \"/home/ouyangzhifei/anaconda3/envs/tensorflowgpu/lib/python3.6/site-packages/tornado/gen.py\", line 209, in wrapper\n    yielded = next(result)\n  File \"/home/ouyangzhifei/anaconda3/envs/tensorflowgpu/lib/python3.6/site-packages/ipykernel/kernelbase.py\", line 268, in dispatch_shell\n    yield gen.maybe_future(handler(stream, idents, msg))\n  File \"/home/ouyangzhifei/anaconda3/envs/tensorflowgpu/lib/python3.6/site-packages/tornado/gen.py\", line 209, in wrapper\n    yielded = next(result)\n  File \"/home/ouyangzhifei/anaconda3/envs/tensorflowgpu/lib/python3.6/site-packages/ipykernel/kernelbase.py\", line 545, in execute_request\n    user_expressions, allow_stdin,\n  File \"/home/ouyangzhifei/anaconda3/envs/tensorflowgpu/lib/python3.6/site-packages/tornado/gen.py\", line 209, in wrapper\n    yielded = next(result)\n  File \"/home/ouyangzhifei/anaconda3/envs/tensorflowgpu/lib/python3.6/site-packages/ipykernel/ipkernel.py\", line 306, in do_execute\n    res = shell.run_cell(code, store_history=store_history, silent=silent)\n  File \"/home/ouyangzhifei/anaconda3/envs/tensorflowgpu/lib/python3.6/site-packages/ipykernel/zmqshell.py\", line 536, in run_cell\n    return super(ZMQInteractiveShell, self).run_cell(*args, **kwargs)\n  File \"/home/ouyangzhifei/anaconda3/envs/tensorflowgpu/lib/python3.6/site-packages/IPython/core/interactiveshell.py\", line 2867, in run_cell\n    raw_cell, store_history, silent, shell_futures)\n  File \"/home/ouyangzhifei/anaconda3/envs/tensorflowgpu/lib/python3.6/site-packages/IPython/core/interactiveshell.py\", line 2895, in _run_cell\n    return runner(coro)\n  File \"/home/ouyangzhifei/anaconda3/envs/tensorflowgpu/lib/python3.6/site-packages/IPython/core/async_helpers.py\", line 68, in _pseudo_sync_runner\n    coro.send(None)\n  File \"/home/ouyangzhifei/anaconda3/envs/tensorflowgpu/lib/python3.6/site-packages/IPython/core/interactiveshell.py\", line 3072, in run_cell_async\n    interactivity=interactivity, compiler=compiler, result=result)\n  File \"/home/ouyangzhifei/anaconda3/envs/tensorflowgpu/lib/python3.6/site-packages/IPython/core/interactiveshell.py\", line 3263, in run_ast_nodes\n    if (await self.run_code(code, result,  async_=asy)):\n  File \"/home/ouyangzhifei/anaconda3/envs/tensorflowgpu/lib/python3.6/site-packages/IPython/core/interactiveshell.py\", line 3343, in run_code\n    exec(code_obj, self.user_global_ns, self.user_ns)\n  File \"<ipython-input-305-7781b9a05f20>\", line 26, in <module>\n    flatten = tf.reshape(max_pool_3,[-1,14*12*64])\n  File \"/home/ouyangzhifei/anaconda3/envs/tensorflowgpu/lib/python3.6/site-packages/tensorflow_core/python/ops/array_ops.py\", line 131, in reshape\n    result = gen_array_ops.reshape(tensor, shape, name)\n  File \"/home/ouyangzhifei/anaconda3/envs/tensorflowgpu/lib/python3.6/site-packages/tensorflow_core/python/ops/gen_array_ops.py\", line 8115, in reshape\n    \"Reshape\", tensor=tensor, shape=shape, name=name)\n  File \"/home/ouyangzhifei/anaconda3/envs/tensorflowgpu/lib/python3.6/site-packages/tensorflow_core/python/framework/op_def_library.py\", line 794, in _apply_op_helper\n    op_def=op_def)\n  File \"/home/ouyangzhifei/anaconda3/envs/tensorflowgpu/lib/python3.6/site-packages/tensorflow_core/python/util/deprecation.py\", line 507, in new_func\n    return func(*args, **kwargs)\n  File \"/home/ouyangzhifei/anaconda3/envs/tensorflowgpu/lib/python3.6/site-packages/tensorflow_core/python/framework/ops.py\", line 3357, in create_op\n    attrs, op_def, compute_device)\n  File \"/home/ouyangzhifei/anaconda3/envs/tensorflowgpu/lib/python3.6/site-packages/tensorflow_core/python/framework/ops.py\", line 3426, in _create_op_internal\n    op_def=op_def)\n  File \"/home/ouyangzhifei/anaconda3/envs/tensorflowgpu/lib/python3.6/site-packages/tensorflow_core/python/framework/ops.py\", line 1748, in __init__\n    self._traceback = tf_stack.extract_stack()\n",
     "output_type": "error",
     "traceback": [
      "\u001b[0;31m---------------------------------------------------------------------------\u001b[0m",
      "\u001b[0;31mInvalidArgumentError\u001b[0m                      Traceback (most recent call last)",
      "\u001b[0;32m~/anaconda3/envs/tensorflowgpu/lib/python3.6/site-packages/tensorflow_core/python/client/session.py\u001b[0m in \u001b[0;36m_do_call\u001b[0;34m(self, fn, *args)\u001b[0m\n\u001b[1;32m   1364\u001b[0m     \u001b[0;32mtry\u001b[0m\u001b[0;34m:\u001b[0m\u001b[0;34m\u001b[0m\u001b[0m\n\u001b[0;32m-> 1365\u001b[0;31m       \u001b[0;32mreturn\u001b[0m \u001b[0mfn\u001b[0m\u001b[0;34m(\u001b[0m\u001b[0;34m*\u001b[0m\u001b[0margs\u001b[0m\u001b[0;34m)\u001b[0m\u001b[0;34m\u001b[0m\u001b[0m\n\u001b[0m\u001b[1;32m   1366\u001b[0m     \u001b[0;32mexcept\u001b[0m \u001b[0merrors\u001b[0m\u001b[0;34m.\u001b[0m\u001b[0mOpError\u001b[0m \u001b[0;32mas\u001b[0m \u001b[0me\u001b[0m\u001b[0;34m:\u001b[0m\u001b[0;34m\u001b[0m\u001b[0m\n",
      "\u001b[0;32m~/anaconda3/envs/tensorflowgpu/lib/python3.6/site-packages/tensorflow_core/python/client/session.py\u001b[0m in \u001b[0;36m_run_fn\u001b[0;34m(feed_dict, fetch_list, target_list, options, run_metadata)\u001b[0m\n\u001b[1;32m   1349\u001b[0m       return self._call_tf_sessionrun(options, feed_dict, fetch_list,\n\u001b[0;32m-> 1350\u001b[0;31m                                       target_list, run_metadata)\n\u001b[0m\u001b[1;32m   1351\u001b[0m \u001b[0;34m\u001b[0m\u001b[0m\n",
      "\u001b[0;32m~/anaconda3/envs/tensorflowgpu/lib/python3.6/site-packages/tensorflow_core/python/client/session.py\u001b[0m in \u001b[0;36m_call_tf_sessionrun\u001b[0;34m(self, options, feed_dict, fetch_list, target_list, run_metadata)\u001b[0m\n\u001b[1;32m   1442\u001b[0m                                             \u001b[0mfetch_list\u001b[0m\u001b[0;34m,\u001b[0m \u001b[0mtarget_list\u001b[0m\u001b[0;34m,\u001b[0m\u001b[0;34m\u001b[0m\u001b[0m\n\u001b[0;32m-> 1443\u001b[0;31m                                             run_metadata)\n\u001b[0m\u001b[1;32m   1444\u001b[0m \u001b[0;34m\u001b[0m\u001b[0m\n",
      "\u001b[0;31mInvalidArgumentError\u001b[0m: Input to reshape is a tensor with 5275648 values, but the requested shape requires a multiple of 10752\n\t [[{{node Reshape_22}}]]",
      "\nDuring handling of the above exception, another exception occurred:\n",
      "\u001b[0;31mInvalidArgumentError\u001b[0m                      Traceback (most recent call last)",
      "\u001b[0;32m<ipython-input-309-e3290c6340d7>\u001b[0m in \u001b[0;36m<module>\u001b[0;34m\u001b[0m\n\u001b[1;32m     10\u001b[0m         \u001b[0mtrain_labels\u001b[0m \u001b[0;34m=\u001b[0m \u001b[0mlabels_train\u001b[0m\u001b[0;34m[\u001b[0m\u001b[0mbatch_start\u001b[0m\u001b[0;34m:\u001b[0m\u001b[0;34m(\u001b[0m\u001b[0mbatch_start\u001b[0m\u001b[0;34m+\u001b[0m\u001b[0mbatch_size\u001b[0m\u001b[0;34m)\u001b[0m\u001b[0;34m]\u001b[0m\u001b[0;34m\u001b[0m\u001b[0m\n\u001b[1;32m     11\u001b[0m         \u001b[0mprint\u001b[0m\u001b[0;34m(\u001b[0m\u001b[0mtrain_input\u001b[0m\u001b[0;34m,\u001b[0m\u001b[0mtrain_labels\u001b[0m\u001b[0;34m,\u001b[0m\u001b[0mtrain_input\u001b[0m\u001b[0;34m.\u001b[0m\u001b[0mshape\u001b[0m\u001b[0;34m,\u001b[0m\u001b[0mtrain_labels\u001b[0m\u001b[0;34m.\u001b[0m\u001b[0mshape\u001b[0m\u001b[0;34m)\u001b[0m\u001b[0;34m\u001b[0m\u001b[0m\n\u001b[0;32m---> 12\u001b[0;31m         \u001b[0mresult\u001b[0m\u001b[0;34m,\u001b[0m\u001b[0macc1\u001b[0m\u001b[0;34m,\u001b[0m\u001b[0mcross_entry_r\u001b[0m\u001b[0;34m,\u001b[0m\u001b[0mcos1\u001b[0m\u001b[0;34m,\u001b[0m\u001b[0mf_softmax1\u001b[0m\u001b[0;34m,\u001b[0m\u001b[0mrelu_1_r\u001b[0m \u001b[0;34m=\u001b[0m \u001b[0msess\u001b[0m\u001b[0;34m.\u001b[0m\u001b[0mrun\u001b[0m\u001b[0;34m(\u001b[0m\u001b[0;34m[\u001b[0m\u001b[0moptimizer\u001b[0m\u001b[0;34m,\u001b[0m\u001b[0macc\u001b[0m\u001b[0;34m,\u001b[0m\u001b[0mcross_entry\u001b[0m\u001b[0;34m,\u001b[0m\u001b[0mcos\u001b[0m\u001b[0;34m,\u001b[0m\u001b[0msoftmax_f\u001b[0m\u001b[0;34m,\u001b[0m\u001b[0mrelu_1\u001b[0m\u001b[0;34m]\u001b[0m\u001b[0;34m,\u001b[0m\u001b[0mfeed_dict\u001b[0m\u001b[0;34m=\u001b[0m\u001b[0;34m{\u001b[0m\u001b[0mimages_input\u001b[0m\u001b[0;34m:\u001b[0m\u001b[0mtrain_input\u001b[0m\u001b[0;34m,\u001b[0m\u001b[0mlabels_input\u001b[0m\u001b[0;34m:\u001b[0m\u001b[0mtrain_labels\u001b[0m\u001b[0;34m}\u001b[0m\u001b[0;34m)\u001b[0m\u001b[0;34m\u001b[0m\u001b[0m\n\u001b[0m\u001b[1;32m     13\u001b[0m         \u001b[0mprint\u001b[0m\u001b[0;34m(\u001b[0m\u001b[0macc1\u001b[0m\u001b[0;34m)\u001b[0m\u001b[0;34m\u001b[0m\u001b[0m\n\u001b[1;32m     14\u001b[0m         \u001b[0mCost\u001b[0m\u001b[0;34m.\u001b[0m\u001b[0mappend\u001b[0m\u001b[0;34m(\u001b[0m\u001b[0mcross_entry_r\u001b[0m\u001b[0;34m)\u001b[0m\u001b[0;34m\u001b[0m\u001b[0m\n",
      "\u001b[0;32m~/anaconda3/envs/tensorflowgpu/lib/python3.6/site-packages/tensorflow_core/python/client/session.py\u001b[0m in \u001b[0;36mrun\u001b[0;34m(self, fetches, feed_dict, options, run_metadata)\u001b[0m\n\u001b[1;32m    954\u001b[0m     \u001b[0;32mtry\u001b[0m\u001b[0;34m:\u001b[0m\u001b[0;34m\u001b[0m\u001b[0m\n\u001b[1;32m    955\u001b[0m       result = self._run(None, fetches, feed_dict, options_ptr,\n\u001b[0;32m--> 956\u001b[0;31m                          run_metadata_ptr)\n\u001b[0m\u001b[1;32m    957\u001b[0m       \u001b[0;32mif\u001b[0m \u001b[0mrun_metadata\u001b[0m\u001b[0;34m:\u001b[0m\u001b[0;34m\u001b[0m\u001b[0m\n\u001b[1;32m    958\u001b[0m         \u001b[0mproto_data\u001b[0m \u001b[0;34m=\u001b[0m \u001b[0mtf_session\u001b[0m\u001b[0;34m.\u001b[0m\u001b[0mTF_GetBuffer\u001b[0m\u001b[0;34m(\u001b[0m\u001b[0mrun_metadata_ptr\u001b[0m\u001b[0;34m)\u001b[0m\u001b[0;34m\u001b[0m\u001b[0m\n",
      "\u001b[0;32m~/anaconda3/envs/tensorflowgpu/lib/python3.6/site-packages/tensorflow_core/python/client/session.py\u001b[0m in \u001b[0;36m_run\u001b[0;34m(self, handle, fetches, feed_dict, options, run_metadata)\u001b[0m\n\u001b[1;32m   1178\u001b[0m     \u001b[0;32mif\u001b[0m \u001b[0mfinal_fetches\u001b[0m \u001b[0;32mor\u001b[0m \u001b[0mfinal_targets\u001b[0m \u001b[0;32mor\u001b[0m \u001b[0;34m(\u001b[0m\u001b[0mhandle\u001b[0m \u001b[0;32mand\u001b[0m \u001b[0mfeed_dict_tensor\u001b[0m\u001b[0;34m)\u001b[0m\u001b[0;34m:\u001b[0m\u001b[0;34m\u001b[0m\u001b[0m\n\u001b[1;32m   1179\u001b[0m       results = self._do_run(handle, final_targets, final_fetches,\n\u001b[0;32m-> 1180\u001b[0;31m                              feed_dict_tensor, options, run_metadata)\n\u001b[0m\u001b[1;32m   1181\u001b[0m     \u001b[0;32melse\u001b[0m\u001b[0;34m:\u001b[0m\u001b[0;34m\u001b[0m\u001b[0m\n\u001b[1;32m   1182\u001b[0m       \u001b[0mresults\u001b[0m \u001b[0;34m=\u001b[0m \u001b[0;34m[\u001b[0m\u001b[0;34m]\u001b[0m\u001b[0;34m\u001b[0m\u001b[0m\n",
      "\u001b[0;32m~/anaconda3/envs/tensorflowgpu/lib/python3.6/site-packages/tensorflow_core/python/client/session.py\u001b[0m in \u001b[0;36m_do_run\u001b[0;34m(self, handle, target_list, fetch_list, feed_dict, options, run_metadata)\u001b[0m\n\u001b[1;32m   1357\u001b[0m     \u001b[0;32mif\u001b[0m \u001b[0mhandle\u001b[0m \u001b[0;32mis\u001b[0m \u001b[0;32mNone\u001b[0m\u001b[0;34m:\u001b[0m\u001b[0;34m\u001b[0m\u001b[0m\n\u001b[1;32m   1358\u001b[0m       return self._do_call(_run_fn, feeds, fetches, targets, options,\n\u001b[0;32m-> 1359\u001b[0;31m                            run_metadata)\n\u001b[0m\u001b[1;32m   1360\u001b[0m     \u001b[0;32melse\u001b[0m\u001b[0;34m:\u001b[0m\u001b[0;34m\u001b[0m\u001b[0m\n\u001b[1;32m   1361\u001b[0m       \u001b[0;32mreturn\u001b[0m \u001b[0mself\u001b[0m\u001b[0;34m.\u001b[0m\u001b[0m_do_call\u001b[0m\u001b[0;34m(\u001b[0m\u001b[0m_prun_fn\u001b[0m\u001b[0;34m,\u001b[0m \u001b[0mhandle\u001b[0m\u001b[0;34m,\u001b[0m \u001b[0mfeeds\u001b[0m\u001b[0;34m,\u001b[0m \u001b[0mfetches\u001b[0m\u001b[0;34m)\u001b[0m\u001b[0;34m\u001b[0m\u001b[0m\n",
      "\u001b[0;32m~/anaconda3/envs/tensorflowgpu/lib/python3.6/site-packages/tensorflow_core/python/client/session.py\u001b[0m in \u001b[0;36m_do_call\u001b[0;34m(self, fn, *args)\u001b[0m\n\u001b[1;32m   1382\u001b[0m                     \u001b[0;34m'\\nsession_config.graph_options.rewrite_options.'\u001b[0m\u001b[0;34m\u001b[0m\u001b[0m\n\u001b[1;32m   1383\u001b[0m                     'disable_meta_optimizer = True')\n\u001b[0;32m-> 1384\u001b[0;31m       \u001b[0;32mraise\u001b[0m \u001b[0mtype\u001b[0m\u001b[0;34m(\u001b[0m\u001b[0me\u001b[0m\u001b[0;34m)\u001b[0m\u001b[0;34m(\u001b[0m\u001b[0mnode_def\u001b[0m\u001b[0;34m,\u001b[0m \u001b[0mop\u001b[0m\u001b[0;34m,\u001b[0m \u001b[0mmessage\u001b[0m\u001b[0;34m)\u001b[0m\u001b[0;34m\u001b[0m\u001b[0m\n\u001b[0m\u001b[1;32m   1385\u001b[0m \u001b[0;34m\u001b[0m\u001b[0m\n\u001b[1;32m   1386\u001b[0m   \u001b[0;32mdef\u001b[0m \u001b[0m_extend_graph\u001b[0m\u001b[0;34m(\u001b[0m\u001b[0mself\u001b[0m\u001b[0;34m)\u001b[0m\u001b[0;34m:\u001b[0m\u001b[0;34m\u001b[0m\u001b[0m\n",
      "\u001b[0;31mInvalidArgumentError\u001b[0m: Input to reshape is a tensor with 5275648 values, but the requested shape requires a multiple of 10752\n\t [[node Reshape_22 (defined at /home/ouyangzhifei/anaconda3/envs/tensorflowgpu/lib/python3.6/site-packages/tensorflow_core/python/framework/ops.py:1748) ]]\n\nOriginal stack trace for 'Reshape_22':\n  File \"/home/ouyangzhifei/anaconda3/envs/tensorflowgpu/lib/python3.6/runpy.py\", line 193, in _run_module_as_main\n    \"__main__\", mod_spec)\n  File \"/home/ouyangzhifei/anaconda3/envs/tensorflowgpu/lib/python3.6/runpy.py\", line 85, in _run_code\n    exec(code, run_globals)\n  File \"/home/ouyangzhifei/anaconda3/envs/tensorflowgpu/lib/python3.6/site-packages/ipykernel_launcher.py\", line 16, in <module>\n    app.launch_new_instance()\n  File \"/home/ouyangzhifei/anaconda3/envs/tensorflowgpu/lib/python3.6/site-packages/traitlets/config/application.py\", line 664, in launch_instance\n    app.start()\n  File \"/home/ouyangzhifei/anaconda3/envs/tensorflowgpu/lib/python3.6/site-packages/ipykernel/kernelapp.py\", line 612, in start\n    self.io_loop.start()\n  File \"/home/ouyangzhifei/anaconda3/envs/tensorflowgpu/lib/python3.6/site-packages/tornado/platform/asyncio.py\", line 149, in start\n    self.asyncio_loop.run_forever()\n  File \"/home/ouyangzhifei/anaconda3/envs/tensorflowgpu/lib/python3.6/asyncio/base_events.py\", line 422, in run_forever\n    self._run_once()\n  File \"/home/ouyangzhifei/anaconda3/envs/tensorflowgpu/lib/python3.6/asyncio/base_events.py\", line 1432, in _run_once\n    handle._run()\n  File \"/home/ouyangzhifei/anaconda3/envs/tensorflowgpu/lib/python3.6/asyncio/events.py\", line 145, in _run\n    self._callback(*self._args)\n  File \"/home/ouyangzhifei/anaconda3/envs/tensorflowgpu/lib/python3.6/site-packages/tornado/ioloop.py\", line 690, in <lambda>\n    lambda f: self._run_callback(functools.partial(callback, future))\n  File \"/home/ouyangzhifei/anaconda3/envs/tensorflowgpu/lib/python3.6/site-packages/tornado/ioloop.py\", line 743, in _run_callback\n    ret = callback()\n  File \"/home/ouyangzhifei/anaconda3/envs/tensorflowgpu/lib/python3.6/site-packages/tornado/gen.py\", line 787, in inner\n    self.run()\n  File \"/home/ouyangzhifei/anaconda3/envs/tensorflowgpu/lib/python3.6/site-packages/tornado/gen.py\", line 748, in run\n    yielded = self.gen.send(value)\n  File \"/home/ouyangzhifei/anaconda3/envs/tensorflowgpu/lib/python3.6/site-packages/ipykernel/kernelbase.py\", line 381, in dispatch_queue\n    yield self.process_one()\n  File \"/home/ouyangzhifei/anaconda3/envs/tensorflowgpu/lib/python3.6/site-packages/tornado/gen.py\", line 225, in wrapper\n    runner = Runner(result, future, yielded)\n  File \"/home/ouyangzhifei/anaconda3/envs/tensorflowgpu/lib/python3.6/site-packages/tornado/gen.py\", line 714, in __init__\n    self.run()\n  File \"/home/ouyangzhifei/anaconda3/envs/tensorflowgpu/lib/python3.6/site-packages/tornado/gen.py\", line 748, in run\n    yielded = self.gen.send(value)\n  File \"/home/ouyangzhifei/anaconda3/envs/tensorflowgpu/lib/python3.6/site-packages/ipykernel/kernelbase.py\", line 365, in process_one\n    yield gen.maybe_future(dispatch(*args))\n  File \"/home/ouyangzhifei/anaconda3/envs/tensorflowgpu/lib/python3.6/site-packages/tornado/gen.py\", line 209, in wrapper\n    yielded = next(result)\n  File \"/home/ouyangzhifei/anaconda3/envs/tensorflowgpu/lib/python3.6/site-packages/ipykernel/kernelbase.py\", line 268, in dispatch_shell\n    yield gen.maybe_future(handler(stream, idents, msg))\n  File \"/home/ouyangzhifei/anaconda3/envs/tensorflowgpu/lib/python3.6/site-packages/tornado/gen.py\", line 209, in wrapper\n    yielded = next(result)\n  File \"/home/ouyangzhifei/anaconda3/envs/tensorflowgpu/lib/python3.6/site-packages/ipykernel/kernelbase.py\", line 545, in execute_request\n    user_expressions, allow_stdin,\n  File \"/home/ouyangzhifei/anaconda3/envs/tensorflowgpu/lib/python3.6/site-packages/tornado/gen.py\", line 209, in wrapper\n    yielded = next(result)\n  File \"/home/ouyangzhifei/anaconda3/envs/tensorflowgpu/lib/python3.6/site-packages/ipykernel/ipkernel.py\", line 306, in do_execute\n    res = shell.run_cell(code, store_history=store_history, silent=silent)\n  File \"/home/ouyangzhifei/anaconda3/envs/tensorflowgpu/lib/python3.6/site-packages/ipykernel/zmqshell.py\", line 536, in run_cell\n    return super(ZMQInteractiveShell, self).run_cell(*args, **kwargs)\n  File \"/home/ouyangzhifei/anaconda3/envs/tensorflowgpu/lib/python3.6/site-packages/IPython/core/interactiveshell.py\", line 2867, in run_cell\n    raw_cell, store_history, silent, shell_futures)\n  File \"/home/ouyangzhifei/anaconda3/envs/tensorflowgpu/lib/python3.6/site-packages/IPython/core/interactiveshell.py\", line 2895, in _run_cell\n    return runner(coro)\n  File \"/home/ouyangzhifei/anaconda3/envs/tensorflowgpu/lib/python3.6/site-packages/IPython/core/async_helpers.py\", line 68, in _pseudo_sync_runner\n    coro.send(None)\n  File \"/home/ouyangzhifei/anaconda3/envs/tensorflowgpu/lib/python3.6/site-packages/IPython/core/interactiveshell.py\", line 3072, in run_cell_async\n    interactivity=interactivity, compiler=compiler, result=result)\n  File \"/home/ouyangzhifei/anaconda3/envs/tensorflowgpu/lib/python3.6/site-packages/IPython/core/interactiveshell.py\", line 3263, in run_ast_nodes\n    if (await self.run_code(code, result,  async_=asy)):\n  File \"/home/ouyangzhifei/anaconda3/envs/tensorflowgpu/lib/python3.6/site-packages/IPython/core/interactiveshell.py\", line 3343, in run_code\n    exec(code_obj, self.user_global_ns, self.user_ns)\n  File \"<ipython-input-305-7781b9a05f20>\", line 26, in <module>\n    flatten = tf.reshape(max_pool_3,[-1,14*12*64])\n  File \"/home/ouyangzhifei/anaconda3/envs/tensorflowgpu/lib/python3.6/site-packages/tensorflow_core/python/ops/array_ops.py\", line 131, in reshape\n    result = gen_array_ops.reshape(tensor, shape, name)\n  File \"/home/ouyangzhifei/anaconda3/envs/tensorflowgpu/lib/python3.6/site-packages/tensorflow_core/python/ops/gen_array_ops.py\", line 8115, in reshape\n    \"Reshape\", tensor=tensor, shape=shape, name=name)\n  File \"/home/ouyangzhifei/anaconda3/envs/tensorflowgpu/lib/python3.6/site-packages/tensorflow_core/python/framework/op_def_library.py\", line 794, in _apply_op_helper\n    op_def=op_def)\n  File \"/home/ouyangzhifei/anaconda3/envs/tensorflowgpu/lib/python3.6/site-packages/tensorflow_core/python/util/deprecation.py\", line 507, in new_func\n    return func(*args, **kwargs)\n  File \"/home/ouyangzhifei/anaconda3/envs/tensorflowgpu/lib/python3.6/site-packages/tensorflow_core/python/framework/ops.py\", line 3357, in create_op\n    attrs, op_def, compute_device)\n  File \"/home/ouyangzhifei/anaconda3/envs/tensorflowgpu/lib/python3.6/site-packages/tensorflow_core/python/framework/ops.py\", line 3426, in _create_op_internal\n    op_def=op_def)\n  File \"/home/ouyangzhifei/anaconda3/envs/tensorflowgpu/lib/python3.6/site-packages/tensorflow_core/python/framework/ops.py\", line 1748, in __init__\n    self._traceback = tf_stack.extract_stack()\n"
     ]
    }
   ],
   "source": [
    "init = tf.global_variables_initializer()\n",
    "with tf.Session() as sess:\n",
    "    sess.run(init)\n",
    "    Cost = []\n",
    "    Accuracy = []\n",
    "    for i in range(train_epochs):\n",
    "        batch_size = random.randint(0,20)\n",
    "        batch_start = random.randint(0,len(images_train)-20)\n",
    "        train_input = images_train[batch_start:(batch_start+batch_size)]\n",
    "        train_labels = labels_train[batch_start:(batch_start+batch_size)]\n",
    "        print(train_input,train_labels,train_input.shape,train_labels.shape)\n",
    "        result,acc1,cross_entry_r,cos1,f_softmax1,relu_1_r = sess.run([optimizer,acc,cross_entry,cos,softmax_f,relu_1],feed_dict={images_input:train_input,labels_input:train_labels})\n",
    "        print(acc1)\n",
    "        Cost.append(cross_entry_r)\n",
    "        Accuracy.append(acc1)"
   ]
  },
  {
   "cell_type": "code",
   "execution_count": null,
   "metadata": {},
   "outputs": [],
   "source": []
  }
 ],
 "metadata": {
  "kernelspec": {
   "display_name": "Python 3",
   "language": "python",
   "name": "python3"
  },
  "language_info": {
   "codemirror_mode": {
    "name": "ipython",
    "version": 3
   },
   "file_extension": ".py",
   "mimetype": "text/x-python",
   "name": "python",
   "nbconvert_exporter": "python",
   "pygments_lexer": "ipython3",
   "version": "3.6.5"
  }
 },
 "nbformat": 4,
 "nbformat_minor": 4
}
