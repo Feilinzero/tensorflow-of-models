{
 "cells": [
  {
   "cell_type": "markdown",
   "metadata": {},
   "source": [
    "## 导包，加载MNIST数据集"
   ]
  },
  {
   "cell_type": "code",
   "execution_count": 1,
   "metadata": {},
   "outputs": [],
   "source": [
    "import tensorflow as tf\n",
    "import numpy as np\n",
    "import pandas as pd\n",
    "import matplotlib.pyplot as plt"
   ]
  },
  {
   "cell_type": "code",
   "execution_count": 2,
   "metadata": {},
   "outputs": [],
   "source": [
    "from tensorflow.keras.datasets import mnist "
   ]
  },
  {
   "cell_type": "code",
   "execution_count": 3,
   "metadata": {},
   "outputs": [],
   "source": [
    "(x_train,y_train),(x_test,y_test)=mnist.load_data(\"mnist/mnist.npz\")  # /home/user/.keras/datasets/路径下"
   ]
  },
  {
   "cell_type": "markdown",
   "metadata": {},
   "source": [
    "## 规范化数据 \n",
    "    1. 转换形状\n",
    "    2. 转换类型\n",
    "    3. 归一化处理\n",
    "    4. 独热编码one-hot"
   ]
  },
  {
   "cell_type": "code",
   "execution_count": 4,
   "metadata": {},
   "outputs": [
    {
     "data": {
      "text/plain": [
       "((60000, 28, 28), (10000, 28, 28))"
      ]
     },
     "execution_count": 4,
     "metadata": {},
     "output_type": "execute_result"
    }
   ],
   "source": [
    "x_train.shape,x_test.shape"
   ]
  },
  {
   "cell_type": "code",
   "execution_count": 5,
   "metadata": {},
   "outputs": [
    {
     "data": {
      "text/plain": [
       "((60000, 784), (10000, 784))"
      ]
     },
     "execution_count": 5,
     "metadata": {},
     "output_type": "execute_result"
    }
   ],
   "source": [
    "X_train = x_train.reshape(60000,784)  # 转换形状\n",
    "X_test = x_test.reshape(10000,784)\n",
    "X_train.shape,X_test.shape"
   ]
  },
  {
   "cell_type": "code",
   "execution_count": 6,
   "metadata": {},
   "outputs": [
    {
     "data": {
      "text/plain": [
       "(array([[0, 0, 0, ..., 0, 0, 0],\n",
       "        [0, 0, 0, ..., 0, 0, 0],\n",
       "        [0, 0, 0, ..., 0, 0, 0],\n",
       "        ...,\n",
       "        [0, 0, 0, ..., 0, 0, 0],\n",
       "        [0, 0, 0, ..., 0, 0, 0],\n",
       "        [0, 0, 0, ..., 0, 0, 0]], dtype=uint8),\n",
       " array([[0, 0, 0, ..., 0, 0, 0],\n",
       "        [0, 0, 0, ..., 0, 0, 0],\n",
       "        [0, 0, 0, ..., 0, 0, 0],\n",
       "        ...,\n",
       "        [0, 0, 0, ..., 0, 0, 0],\n",
       "        [0, 0, 0, ..., 0, 0, 0],\n",
       "        [0, 0, 0, ..., 0, 0, 0]], dtype=uint8))"
      ]
     },
     "execution_count": 6,
     "metadata": {},
     "output_type": "execute_result"
    }
   ],
   "source": [
    "X_train,X_test"
   ]
  },
  {
   "cell_type": "code",
   "execution_count": 7,
   "metadata": {},
   "outputs": [
    {
     "data": {
      "text/plain": [
       "(array([[0., 0., 0., ..., 0., 0., 0.],\n",
       "        [0., 0., 0., ..., 0., 0., 0.],\n",
       "        [0., 0., 0., ..., 0., 0., 0.],\n",
       "        ...,\n",
       "        [0., 0., 0., ..., 0., 0., 0.],\n",
       "        [0., 0., 0., ..., 0., 0., 0.],\n",
       "        [0., 0., 0., ..., 0., 0., 0.]], dtype=float32),\n",
       " array([[0., 0., 0., ..., 0., 0., 0.],\n",
       "        [0., 0., 0., ..., 0., 0., 0.],\n",
       "        [0., 0., 0., ..., 0., 0., 0.],\n",
       "        ...,\n",
       "        [0., 0., 0., ..., 0., 0., 0.],\n",
       "        [0., 0., 0., ..., 0., 0., 0.],\n",
       "        [0., 0., 0., ..., 0., 0., 0.]], dtype=float32))"
      ]
     },
     "execution_count": 7,
     "metadata": {},
     "output_type": "execute_result"
    }
   ],
   "source": [
    "# 转换类型\n",
    "X_train = X_train.astype(\"float32\")\n",
    "X_test = X_test.astype(\"float32\")\n",
    "X_train,X_test"
   ]
  },
  {
   "cell_type": "code",
   "execution_count": 8,
   "metadata": {},
   "outputs": [],
   "source": [
    "# 归一化处理,图像像素的的值是0-255\n",
    "X_train /= 255\n",
    "X_test /= 255"
   ]
  },
  {
   "cell_type": "code",
   "execution_count": 9,
   "metadata": {},
   "outputs": [
    {
     "data": {
      "text/plain": [
       "(array([0, 1, 2, 3, 4, 5, 6, 7, 8, 9], dtype=uint8),\n",
       " array([5923, 6742, 5958, 6131, 5842, 5421, 5918, 6265, 5851, 5949]))"
      ]
     },
     "execution_count": 9,
     "metadata": {},
     "output_type": "execute_result"
    }
   ],
   "source": [
    "# 查看统计数据\n",
    "labels,counts=np.unique(y_train,return_counts=True)\n",
    "labels,counts"
   ]
  },
  {
   "cell_type": "code",
   "execution_count": 10,
   "metadata": {},
   "outputs": [
    {
     "data": {
      "image/png": "[encoded data removed]",
      "text/plain": [
       "<Figure size 432x288 with 1 Axes>"
      ]
     },
     "metadata": {
      "needs_background": "light"
     },
     "output_type": "display_data"
    }
   ],
   "source": [
    "fig=plt.figure()\n",
    "plt.bar(labels,counts,width=0.8,align=\"center\")  # 绘制直方图\n",
    "plt.xlabel(\"labels\")  # X轴标题\n",
    "plt.ylabel(\"counts\")  # Y轴标题\n",
    "plt.xticks(labels)   # X轴刻度\n",
    "plt.ylim(0,7500)   # Y轴显示数值范围\n",
    "for a,b in zip(labels,counts):\n",
    "    plt.text(a,b,'%d' % b,ha=\"center\",va=\"bottom\",fontsize=10) #数据文本"
   ]
  },
  {
   "cell_type": "code",
   "execution_count": 11,
   "metadata": {},
   "outputs": [],
   "source": [
    "# one-hot编码\n",
    "from tensorflow.keras.utils import to_categorical\n",
    "n_classes=10\n",
    "Y_train = to_categorical(y_train,n_classes)\n",
    "Y_test = to_categorical(y_test,n_classes)"
   ]
  },
  {
   "cell_type": "code",
   "execution_count": 12,
   "metadata": {},
   "outputs": [
    {
     "data": {
      "text/plain": [
       "(array([0., 0., 0., 0., 0., 1., 0., 0., 0., 0.], dtype=float32),\n",
       " 5,\n",
       " (60000, 10),\n",
       " (60000,))"
      ]
     },
     "execution_count": 12,
     "metadata": {},
     "output_type": "execute_result"
    }
   ],
   "source": [
    "Y_train[0],y_train[0],Y_train.shape,y_train.shape"
   ]
  },
  {
   "cell_type": "markdown",
   "metadata": {},
   "source": [
    "## 搭建神经网络模型\n",
    "    1. 全连接网络层Dense，512个神经元，输入（784，）\n",
    "    2. 激活函数relu\n",
    "    3. 全连接层，512神经元\n",
    "    4. 激活函数relu\n",
    "    5. 全连接层，10神经元\n",
    "    6. 激活函数softmax"
   ]
  },
  {
   "cell_type": "code",
   "execution_count": 13,
   "metadata": {},
   "outputs": [],
   "source": [
    "from tensorflow.keras.models import Sequential\n",
    "from tensorflow.keras.layers import Dense,Activation"
   ]
  },
  {
   "cell_type": "code",
   "execution_count": 14,
   "metadata": {},
   "outputs": [
    {
     "name": "stdout",
     "output_type": "stream",
     "text": [
      "WARNING:tensorflow:From /home/ouyangzhifei/anaconda3/envs/tensorflowgpu/lib/python3.6/site-packages/tensorflow_core/python/ops/resource_variable_ops.py:1630: calling BaseResourceVariable.__init__ (from tensorflow.python.ops.resource_variable_ops) with constraint is deprecated and will be removed in a future version.\n",
      "Instructions for updating:\n",
      "If using Keras pass *_constraint arguments to layers.\n"
     ]
    }
   ],
   "source": [
    "# 前向传播\n",
    "model = Sequential()\n",
    "model.add(Dense(512,input_shape=(784,)))\n",
    "model.add(Activation(\"relu\"))\n",
    "model.add(Dense(512))\n",
    "model.add(Activation(\"relu\"))\n",
    "model.add(Dense(10))\n",
    "model.add(Activation(\"softmax\"))"
   ]
  },
  {
   "cell_type": "code",
   "execution_count": 15,
   "metadata": {},
   "outputs": [],
   "source": [
    "# 反向传播\n",
    "# 使用交叉熵损失函数，Adam优化器\n",
    "model.compile(loss='categorical_crossentropy',metrics=['accuracy'],optimizer='adam')"
   ]
  },
  {
   "cell_type": "code",
   "execution_count": 27,
   "metadata": {},
   "outputs": [
    {
     "name": "stdout",
     "output_type": "stream",
     "text": [
      "Model: \"sequential\"\n",
      "_________________________________________________________________\n",
      "Layer (type)                 Output Shape              Param #   \n",
      "=================================================================\n",
      "dense (Dense)                (None, 512)               401920    \n",
      "_________________________________________________________________\n",
      "activation (Activation)      (None, 512)               0         \n",
      "_________________________________________________________________\n",
      "dense_1 (Dense)              (None, 512)               262656    \n",
      "_________________________________________________________________\n",
      "activation_1 (Activation)    (None, 512)               0         \n",
      "_________________________________________________________________\n",
      "dense_2 (Dense)              (None, 10)                5130      \n",
      "_________________________________________________________________\n",
      "activation_2 (Activation)    (None, 10)                0         \n",
      "=================================================================\n",
      "Total params: 669,706\n",
      "Trainable params: 669,706\n",
      "Non-trainable params: 0\n",
      "_________________________________________________________________\n"
     ]
    }
   ],
   "source": [
    "model.summary()  # 搭建的神经网络结构"
   ]
  },
  {
   "cell_type": "code",
   "execution_count": 16,
   "metadata": {},
   "outputs": [
    {
     "name": "stdout",
     "output_type": "stream",
     "text": [
      "Train on 42000 samples, validate on 18000 samples\n",
      "Epoch 1/10\n",
      "42000/42000 - 2s - loss: 0.2557 - acc: 0.9253 - val_loss: 0.1331 - val_acc: 0.9608\n",
      "Epoch 2/10\n",
      "42000/42000 - 2s - loss: 0.0939 - acc: 0.9713 - val_loss: 0.1050 - val_acc: 0.9686\n",
      "Epoch 3/10\n",
      "42000/42000 - 2s - loss: 0.0539 - acc: 0.9832 - val_loss: 0.0998 - val_acc: 0.9700\n",
      "Epoch 4/10\n",
      "42000/42000 - 2s - loss: 0.0404 - acc: 0.9877 - val_loss: 0.1126 - val_acc: 0.9679\n",
      "Epoch 5/10\n",
      "42000/42000 - 2s - loss: 0.0276 - acc: 0.9910 - val_loss: 0.0913 - val_acc: 0.9751\n",
      "Epoch 6/10\n",
      "42000/42000 - 2s - loss: 0.0222 - acc: 0.9920 - val_loss: 0.1085 - val_acc: 0.9735\n",
      "Epoch 7/10\n",
      "42000/42000 - 2s - loss: 0.0153 - acc: 0.9949 - val_loss: 0.1054 - val_acc: 0.9749\n",
      "Epoch 8/10\n",
      "42000/42000 - 2s - loss: 0.0168 - acc: 0.9942 - val_loss: 0.1301 - val_acc: 0.9706\n",
      "Epoch 9/10\n",
      "42000/42000 - 2s - loss: 0.0174 - acc: 0.9943 - val_loss: 0.1068 - val_acc: 0.9741\n",
      "Epoch 10/10\n",
      "42000/42000 - 2s - loss: 0.0102 - acc: 0.9965 - val_loss: 0.1207 - val_acc: 0.9749\n"
     ]
    }
   ],
   "source": [
    "# 训练模型\n",
    "history = model.fit(X_train, # 处理后的特征数据(784,)\n",
    "                   Y_train,  # 处理后的标签(10)\n",
    "                   batch_size=128,  # 每一步训练批处理128个数据\n",
    "                   epochs=10,  # 所有数据训练10遍\n",
    "                   verbose=2,  # 显示日志，0不显示，1显示进度条，2每轮显示\n",
    "#                    validation_data=(X_test,Y_test),\n",
    "                   validation_split=0.3)  # 指定验证集"
   ]
  },
  {
   "cell_type": "markdown",
   "metadata": {},
   "source": [
    "## 训练结果可视化"
   ]
  },
  {
   "cell_type": "code",
   "execution_count": 17,
   "metadata": {},
   "outputs": [
    {
     "data": {
      "text/plain": [
       "{'loss': [0.2557404046427636,\n",
       "  0.0939321448359461,\n",
       "  0.053861680277756285,\n",
       "  0.0404082009040174,\n",
       "  0.027640827514585995,\n",
       "  0.0221729891213278,\n",
       "  0.015338623120316437,\n",
       "  0.0168451009234857,\n",
       "  0.017390575337711545,\n",
       "  0.010229743206285917],\n",
       " 'acc': [0.9252857,\n",
       "  0.9713333,\n",
       "  0.9832381,\n",
       "  0.9877143,\n",
       "  0.99102384,\n",
       "  0.9920476,\n",
       "  0.99490476,\n",
       "  0.9942143,\n",
       "  0.9943333,\n",
       "  0.9964524],\n",
       " 'val_loss': [0.13305504454506767,\n",
       "  0.105016036245558,\n",
       "  0.09977936181757185,\n",
       "  0.11257489807075924,\n",
       "  0.09131358969211578,\n",
       "  0.10850846699211332,\n",
       "  0.10540752306580543,\n",
       "  0.13008754329217806,\n",
       "  0.10680633426043723,\n",
       "  0.12072242328359022],\n",
       " 'val_acc': [0.9608333,\n",
       "  0.96855557,\n",
       "  0.97,\n",
       "  0.9678889,\n",
       "  0.9750556,\n",
       "  0.9735,\n",
       "  0.9749445,\n",
       "  0.97055554,\n",
       "  0.9740555,\n",
       "  0.97488886]}"
      ]
     },
     "execution_count": 17,
     "metadata": {},
     "output_type": "execute_result"
    }
   ],
   "source": [
    "history.history  # 包含训练集的损失，准确率，验证集的损失，准确率"
   ]
  },
  {
   "cell_type": "code",
   "execution_count": 18,
   "metadata": {},
   "outputs": [
    {
     "data": {
      "image/png": "[encoded data removed]",
      "text/plain": [
       "<Figure size 432x288 with 1 Axes>"
      ]
     },
     "metadata": {
      "needs_background": "light"
     },
     "output_type": "display_data"
    }
   ],
   "source": [
    "fig = plt.figure()\n",
    "# plt.subplot(1,1,1)\n",
    "plt.plot(history.history['loss'],color='red')\n",
    "plt.plot(history.history['val_loss'],color='green')\n",
    "plt.plot(history.history['acc'],color='orange')\n",
    "plt.plot(history.history['val_acc'],color='blue')\n",
    "plt.xlabel('epochs')\n",
    "plt.ylabel('acc/loss')\n",
    "plt.yticks(np.linspace(0,1,9))\n",
    "plt.legend(['loss','val_loss','acc','val_acc'],loc='center right')\n",
    "plt.show()"
   ]
  },
  {
   "cell_type": "code",
   "execution_count": 19,
   "metadata": {},
   "outputs": [
    {
     "data": {
      "text/plain": [
       "'./model/mnist_6l.h5'"
      ]
     },
     "execution_count": 19,
     "metadata": {},
     "output_type": "execute_result"
    }
   ],
   "source": [
    "## 保存模型\n",
    "import os\n",
    "import tensorflow.gfile as gfile\n",
    "\n",
    "save_dir='./model/'\n",
    "if(gfile.Exists(save_dir)):\n",
    "    gfile.DeleteRecursively(save_dir)  # 存在旧模型则删除\n",
    "gfile.MakeDirs(save_dir)  # 创建新的模型路径\n",
    "\n",
    "model_name = 'mnist_6l.h5'\n",
    "model_path = os.path.join(save_dir,model_name)    \n",
    "model.save(model_path)\n",
    "model_path"
   ]
  },
  {
   "cell_type": "markdown",
   "metadata": {},
   "source": [
    "## 使用现有模型"
   ]
  },
  {
   "cell_type": "code",
   "execution_count": 20,
   "metadata": {},
   "outputs": [
    {
     "name": "stdout",
     "output_type": "stream",
     "text": [
      "WARNING:tensorflow:From /home/ouyangzhifei/anaconda3/envs/tensorflowgpu/lib/python3.6/site-packages/tensorflow_core/python/ops/init_ops.py:97: calling GlorotUniform.__init__ (from tensorflow.python.ops.init_ops) with dtype is deprecated and will be removed in a future version.\n",
      "Instructions for updating:\n",
      "Call initializer instance with the dtype argument instead of passing it to the constructor\n",
      "WARNING:tensorflow:From /home/ouyangzhifei/anaconda3/envs/tensorflowgpu/lib/python3.6/site-packages/tensorflow_core/python/ops/init_ops.py:97: calling Zeros.__init__ (from tensorflow.python.ops.init_ops) with dtype is deprecated and will be removed in a future version.\n",
      "Instructions for updating:\n",
      "Call initializer instance with the dtype argument instead of passing it to the constructor\n"
     ]
    }
   ],
   "source": [
    "# 加载模型\n",
    "from tensorflow.keras.models import load_model\n",
    "mnist_model = load_model(model_path)"
   ]
  },
  {
   "cell_type": "code",
   "execution_count": 21,
   "metadata": {},
   "outputs": [
    {
     "name": "stdout",
     "output_type": "stream",
     "text": [
      "10000/10000 - 0s - loss: 0.0951 - acc: 0.9784\n"
     ]
    }
   ],
   "source": [
    "# 统计模型在测试集上的损失及准确率\n",
    "loss_and_metrics = mnist_model.evaluate(X_test,Y_test,verbose=2)"
   ]
  },
  {
   "cell_type": "code",
   "execution_count": 22,
   "metadata": {},
   "outputs": [
    {
     "data": {
      "text/plain": [
       "[0.09507713382291552, 0.9784]"
      ]
     },
     "execution_count": 22,
     "metadata": {},
     "output_type": "execute_result"
    }
   ],
   "source": [
    "loss_and_metrics"
   ]
  },
  {
   "cell_type": "code",
   "execution_count": 23,
   "metadata": {},
   "outputs": [],
   "source": [
    "# 分类预测\n",
    "predicted_classes = mnist_model.predict_classes(X_test)"
   ]
  },
  {
   "cell_type": "code",
   "execution_count": 24,
   "metadata": {},
   "outputs": [
    {
     "data": {
      "text/plain": [
       "(9784, 216)"
      ]
     },
     "execution_count": 24,
     "metadata": {},
     "output_type": "execute_result"
    }
   ],
   "source": [
    "len(np.nonzero(predicted_classes == y_test)[0]),len(np.nonzero(predicted_classes != y_test)[0])"
   ]
  },
  {
   "cell_type": "code",
   "execution_count": null,
   "metadata": {},
   "outputs": [],
   "source": []
  }
 ],
 "metadata": {
  "kernelspec": {
   "display_name": "Python 3",
   "language": "python",
   "name": "python3"
  },
  "language_info": {
   "codemirror_mode": {
    "name": "ipython",
    "version": 3
   },
   "file_extension": ".py",
   "mimetype": "text/x-python",
   "name": "python",
   "nbconvert_exporter": "python",
   "pygments_lexer": "ipython3",
   "version": "3.6.5"
  }
 },
 "nbformat": 4,
 "nbformat_minor": 4
}
