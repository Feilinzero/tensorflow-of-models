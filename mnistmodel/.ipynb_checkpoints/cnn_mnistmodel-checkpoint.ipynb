{
 "cells": [
  {
   "cell_type": "markdown",
   "metadata": {},
   "source": [
    "# CNN卷积神经网络\n",
    "    convoluTIonal Neural Networks"
   ]
  },
  {
   "cell_type": "markdown",
   "metadata": {},
   "source": [
    "## 边缘检测\n",
    "    1. 垂直边缘检测，3x3卷积核[[1,0,-1],\n",
    "                            [1,0,-1],\n",
    "                            [1,0,-1]]\n",
    "    2. 水平边缘检测，3x3卷积核[[1,1,1],\n",
    "                            [0,0,0],\n",
    "                            [-1,-1,-1]]\n",
    "    3. sobel,3x3卷积核[[1,0,-1],\n",
    "                      [2,0,-2],\n",
    "                      [1,0,-1]]\n",
    "    4. scharr,[[3,0,-3],\n",
    "               [10,0,-10],\n",
    "               [3,0,-3]]\n"
   ]
  },
  {
   "cell_type": "markdown",
   "metadata": {},
   "source": [
    "## padding\n",
    "    输入n*n，使用f*f过滤，填充p个像素点,步长s,输出(n+2p-f+1)/s * (n+2p-f+1)/s\n",
    "    \n",
    "    要让输入等于输出 即 n+2p-f+1=n  >>>  p=(f-1)/2"
   ]
  },
  {
   "cell_type": "markdown",
   "metadata": {},
   "source": [
    "## pooling池化\n",
    "    1. 最大池化和平均池化\n",
    "    ２．　池化核ｋ\n",
    "    ３．　池化核的滑动间隔\n",
    " "
   ]
  },
  {
   "cell_type": "markdown",
   "metadata": {},
   "source": [
    "## Dropout\n",
    "    正则化层，通过dropout训练带有全连接层的CNN模型，以一定概率暂时随机丢弃神经元不参与当前迭代训练"
   ]
  },
  {
   "cell_type": "markdown",
   "metadata": {},
   "source": [
    "## Flatten展开层\n",
    "    将卷积或池化后的特征摊平输入全连接层"
   ]
  },
  {
   "cell_type": "code",
   "execution_count": 52,
   "metadata": {},
   "outputs": [],
   "source": [
    "# 导包，加载数据集\n",
    "\n",
    "import tensorflow as tf\n",
    "import numpy as np\n",
    "import matplotlib.pyplot as plt\n",
    "import pandas as pd\n",
    "from tensorflow.keras.datasets import mnist\n",
    "(x_train,y_train),(x_test,y_test) = mnist.load_data(\"mnist/mnist.npz\")"
   ]
  },
  {
   "cell_type": "code",
   "execution_count": 53,
   "metadata": {},
   "outputs": [],
   "source": [
    "# 规范化数据\n",
    "from tensorflow.keras import backend as K\n",
    "\n",
    "img_rows, img_cols = 28, 28\n",
    "# 转换为单通道\n",
    "if K.image_data_format() == 'channels_first':\n",
    "    X_train = x_train.reshape(x_train.shape[0], 1, img_rows, img_cols).astype(\"float32\")\n",
    "    X_test = x_test.reshape(x_test.shape[0], 1, img_rows, img_cols).astype(\"float32\")\n",
    "    input_shape = (1, img_rows, img_cols)\n",
    "else:\n",
    "    X_train = x_train.reshape(x_train.shape[0], img_rows, img_cols, 1).astype(\"float32\")\n",
    "    X_test = x_test.reshape(x_test.shape[0], img_rows, img_cols, 1).astype(\"float32\")\n",
    "    input_shape = (img_rows, img_cols, 1)\n",
    "X_train /= 255\n",
    "X_test /= 255"
   ]
  },
  {
   "cell_type": "code",
   "execution_count": 54,
   "metadata": {},
   "outputs": [],
   "source": [
    "# 独热编码\n",
    "from tensorflow.keras.utils import to_categorical\n",
    "n_classes = 10\n",
    "Y_train,Y_test = (to_categorical(y_train,n_classes),to_categorical(y_test,n_classes))"
   ]
  },
  {
   "cell_type": "code",
   "execution_count": 55,
   "metadata": {},
   "outputs": [],
   "source": [
    "# 搭建模型\n",
    "from tensorflow.keras.models import Sequential\n",
    "from tensorflow.keras.layers import Dense,Activation,Dropout,Flatten,MaxPooling2D,Conv2D\n",
    "\n",
    "model = Sequential()\n",
    "model.add(Conv2D(filters=32,\n",
    "                 kernel_size=(3,3),\n",
    "                 activation=\"relu\",\n",
    "                 input_shape=input_shape))\n",
    "model.add(Conv2D(filters=64,\n",
    "                kernel_size=(3,3),\n",
    "                activation=\"relu\"))\n",
    "model.add(MaxPooling2D(pool_size=(2,2)))\n",
    "model.add(Dropout(0.25))\n",
    "model.add(Flatten())\n",
    "model.add(Dense(128,activation=\"relu\"))\n",
    "model.add(Dropout(0.25))\n",
    "model.add(Dense(n_classes,activation=\"softmax\"))"
   ]
  },
  {
   "cell_type": "code",
   "execution_count": 56,
   "metadata": {},
   "outputs": [
    {
     "name": "stdout",
     "output_type": "stream",
     "text": [
      "Model: \"sequential_7\"\n",
      "_________________________________________________________________\n",
      "Layer (type)                 Output Shape              Param #   \n",
      "=================================================================\n",
      "conv2d_6 (Conv2D)            (None, 26, 26, 32)        320       \n",
      "_________________________________________________________________\n",
      "conv2d_7 (Conv2D)            (None, 24, 24, 64)        18496     \n",
      "_________________________________________________________________\n",
      "max_pooling2d_2 (MaxPooling2 (None, 12, 12, 64)        0         \n",
      "_________________________________________________________________\n",
      "dropout_4 (Dropout)          (None, 12, 12, 64)        0         \n",
      "_________________________________________________________________\n",
      "flatten_2 (Flatten)          (None, 9216)              0         \n",
      "_________________________________________________________________\n",
      "dense_4 (Dense)              (None, 128)               1179776   \n",
      "_________________________________________________________________\n",
      "dropout_5 (Dropout)          (None, 128)               0         \n",
      "_________________________________________________________________\n",
      "dense_5 (Dense)              (None, 10)                1290      \n",
      "=================================================================\n",
      "Total params: 1,199,882\n",
      "Trainable params: 1,199,882\n",
      "Non-trainable params: 0\n",
      "_________________________________________________________________\n"
     ]
    }
   ],
   "source": [
    "model.summary()"
   ]
  },
  {
   "cell_type": "code",
   "execution_count": 57,
   "metadata": {},
   "outputs": [],
   "source": [
    "# 编译模型，反向传播\n",
    "model.compile(loss=\"categorical_crossentropy\",optimizer=\"Adam\",metrics=[\"accuracy\"])"
   ]
  },
  {
   "cell_type": "code",
   "execution_count": 58,
   "metadata": {
    "scrolled": true
   },
   "outputs": [
    {
     "name": "stdout",
     "output_type": "stream",
     "text": [
      "Train on 42000 samples, validate on 18000 samples\n",
      "Epoch 1/10\n",
      "42000/42000 - 32s - loss: 0.2330 - acc: 0.9310 - val_loss: 0.0727 - val_acc: 0.9788\n",
      "Epoch 2/10\n",
      "42000/42000 - 33s - loss: 0.0682 - acc: 0.9790 - val_loss: 0.0582 - val_acc: 0.9831\n",
      "Epoch 3/10\n",
      "42000/42000 - 32s - loss: 0.0472 - acc: 0.9853 - val_loss: 0.0479 - val_acc: 0.9854\n",
      "Epoch 4/10\n",
      "42000/42000 - 31s - loss: 0.0345 - acc: 0.9886 - val_loss: 0.0459 - val_acc: 0.9862\n",
      "Epoch 5/10\n",
      "42000/42000 - 31s - loss: 0.0285 - acc: 0.9904 - val_loss: 0.0420 - val_acc: 0.9876\n",
      "Epoch 6/10\n",
      "42000/42000 - 31s - loss: 0.0230 - acc: 0.9921 - val_loss: 0.0435 - val_acc: 0.9884\n",
      "Epoch 7/10\n",
      "42000/42000 - 31s - loss: 0.0192 - acc: 0.9936 - val_loss: 0.0447 - val_acc: 0.9887\n",
      "Epoch 8/10\n",
      "42000/42000 - 32s - loss: 0.0168 - acc: 0.9948 - val_loss: 0.0430 - val_acc: 0.9892\n",
      "Epoch 9/10\n",
      "42000/42000 - 31s - loss: 0.0154 - acc: 0.9947 - val_loss: 0.0427 - val_acc: 0.9892\n",
      "Epoch 10/10\n",
      "42000/42000 - 32s - loss: 0.0140 - acc: 0.9952 - val_loss: 0.0445 - val_acc: 0.9894\n"
     ]
    },
    {
     "data": {
      "text/plain": [
       "<tensorflow.python.keras.callbacks.History at 0x7f04eb8af128>"
      ]
     },
     "execution_count": 58,
     "metadata": {},
     "output_type": "execute_result"
    }
   ],
   "source": [
    "# 训练模型\n",
    "model.fit(X_train,\n",
    "         Y_train,\n",
    "         batch_size = 128,\n",
    "         verbose = 2,\n",
    "          epochs = 10,\n",
    "         validation_split = 0.3)"
   ]
  },
  {
   "cell_type": "code",
   "execution_count": 59,
   "metadata": {},
   "outputs": [
    {
     "data": {
      "text/plain": [
       "(60000, 28, 28, 1)"
      ]
     },
     "execution_count": 59,
     "metadata": {},
     "output_type": "execute_result"
    }
   ],
   "source": []
  },
  {
   "cell_type": "code",
   "execution_count": null,
   "metadata": {},
   "outputs": [],
   "source": []
  }
 ],
 "metadata": {
  "kernelspec": {
   "display_name": "Python 3",
   "language": "python",
   "name": "python3"
  },
  "language_info": {
   "codemirror_mode": {
    "name": "ipython",
    "version": 3
   },
   "file_extension": ".py",
   "mimetype": "text/x-python",
   "name": "python",
   "nbconvert_exporter": "python",
   "pygments_lexer": "ipython3",
   "version": "3.6.5"
  }
 },
 "nbformat": 4,
 "nbformat_minor": 4
}
